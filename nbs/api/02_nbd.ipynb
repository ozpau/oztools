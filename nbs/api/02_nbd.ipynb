{
 "cells": [
  {
   "cell_type": "markdown",
   "id": "9c8cf725-f4c7-4bd1-ab7f-c523a908ac4a",
   "metadata": {},
   "source": [
    "# nbd\n",
    "\n",
    "> Extra command line utilities for nbdev"
   ]
  },
  {
   "cell_type": "code",
   "execution_count": null,
   "id": "2eb94c62-53b2-49a8-94db-f6619642c2b7",
   "metadata": {},
   "outputs": [],
   "source": [
    "#| default_exp nbd"
   ]
  },
  {
   "cell_type": "code",
   "execution_count": null,
   "id": "06942082-f99c-4350-95cd-27aa67151481",
   "metadata": {},
   "outputs": [],
   "source": [
    "#| hide\n",
    "from nbdev.showdoc import *"
   ]
  },
  {
   "cell_type": "code",
   "execution_count": null,
   "id": "003c1693-ec99-4421-958d-3f9ab3404ac3",
   "metadata": {},
   "outputs": [],
   "source": [
    "#| export\n",
    "from pathlib import Path\n",
    "from fastcore.all import *\n",
    "import itertools as it\n",
    "import os, time\n",
    "from ghapi.all import *\n",
    "\n",
    "import configparser\n",
    "from pathlib import Path\n",
    "\n",
    "from oztools.core import *\n",
    "from oztools.gh import *\n",
    "\n",
    "import subprocess\n",
    "\n",
    "import json\n",
    "from fastcore.net import HTTP422UnprocessableEntityError\n",
    "\n",
    "from glob import glob\n",
    "import re, yaml, shutil\n",
    "import importlib.resources as res\n",
    "\n",
    "import asyncio\n",
    "from asyncinotify import Inotify, Event, Mask\n",
    "from pathlib import Path\n",
    "from typing import Generator, AsyncGenerator\n",
    "from datetime import datetime"
   ]
  },
  {
   "cell_type": "code",
   "execution_count": null,
   "id": "dc3914d1-0099-461e-b518-4a55db59b930",
   "metadata": {},
   "outputs": [],
   "source": [
    "path = Path(\"../..\")\n",
    "Path.BASE_PATH = path"
   ]
  },
  {
   "cell_type": "code",
   "execution_count": null,
   "id": "85e6d37a-3f1c-4e88-8a50-92604bf79f59",
   "metadata": {},
   "outputs": [],
   "source": [
    "#| export\n",
    "def make_things_pretty():\n",
    "    # Fix not being able to click on \"source\" link in docs\n",
    "    with open(\"./nbs/styles.css\", 'a') as f: f.write(\"\\nh3 {\\n  width: fit-content;\\n}\")\n",
    "    # Add dark theme and make bright theme compatible with in in colorscheme\n",
    "    theme = {'light': 'united', 'dark': 'superhero'}\n",
    "    with open(\"./nbs/_quarto.yml\", 'r') as f: data = yaml.safe_load(f)\n",
    "    data['format']['html']['theme'] = theme\n",
    "    data['website']['favicon'] = 'favicon.png'\n",
    "    with open(\"./nbs/_quarto.yml\", 'w') as f: f.write(yaml.dump(data))\n",
    "    # Copy favicon\n",
    "    with res.as_file(res.files(\"oztools\")/\"data/favicon.png\") as f: shutil.copy(f, \"./nbs\")"
   ]
  },
  {
   "cell_type": "code",
   "execution_count": null,
   "id": "d324a91c-1c4d-4112-b442-48870b751d26",
   "metadata": {},
   "outputs": [],
   "source": [
    "#| export\n",
    "\n",
    "def nbd_new_fn(name:str, description:str, license:str=\"Apache-2.0\", private:bool=False):\n",
    "    \"Create a new nbdev project and setup github repo for it\"\n",
    "    gh_repo, local_repo = gh_new_repo_fn(name, description, license, private)\n",
    "    # this one makes github run CI twice (not nice)\n",
    "    #setup_pages_branch(local_repo, gh_repo.name)\n",
    "    os.chdir(gh_repo.name)\n",
    "    subprocess.run([\"nbdev_new\"]) # TODO: use .__wrapped__ property to extract original function\n",
    "    subprocess.run([\"nbdev_install_hooks\"])\n",
    "    make_things_pretty()\n",
    "    subprocess.run([\"nbdev_prepare\"])\n",
    "    subprocess.run([\"nbdev_clean\"])\n",
    "    # Hopefully using pip + some sleep would be enough for github to be ready\n",
    "    # to enable pages branch\n",
    "    commit_and_push(local_repo, \"Initial commit\")\n",
    "    subprocess.run([\"pip\", \"install\", \"-e\", \".[dev]\"])\n",
    "    print(\"Waiting for the github to finish build before enabling pages\")\n",
    "    print(\"Feel free to start working on the project\")\n",
    "    # TODO: maybe check github api if build is ready\n",
    "    while True:\n",
    "        time.sleep(20)\n",
    "        try:\n",
    "            setup_pages_branch_location(local_repo, gh_repo.name)\n",
    "            break\n",
    "        except HTTP422UnprocessableEntityError:\n",
    "            pass"
   ]
  },
  {
   "cell_type": "code",
   "execution_count": null,
   "id": "ad5c6501-4895-41fb-a0ca-d7b8b762338b",
   "metadata": {},
   "outputs": [],
   "source": [
    "#| export\n",
    "@call_parse\n",
    "def nbd_new(name:str, description:str, license:str=\"Apache-2.0\", private:bool=False):\n",
    "    \"Create a new nbdev project and setup github repo for it\"\n",
    "    nbd_new_fn(name, description, license, private)"
   ]
  },
  {
   "cell_type": "code",
   "execution_count": null,
   "id": "c67c8a71-7063-4ded-a91c-79de650812dd",
   "metadata": {},
   "outputs": [],
   "source": [
    "#| export\n",
    "\n",
    "def new_notebook_template(name, description):\n",
    "    template = {\n",
    "        'cells': [\n",
    "            {'cell_type': 'markdown', 'metadata': {},\n",
    "             'source': [\n",
    "                    f'# {name}\\n',\n",
    "                    '\\n',\n",
    "                    f'> {description}'\n",
    "                ]},\n",
    "            {'cell_type': 'code', 'execution_count': None, 'metadata': {}, 'outputs': [],\n",
    "             'source': [f'#| default_exp {name}']},\n",
    "            {'cell_type': 'code', 'execution_count': None, 'metadata': {}, 'outputs': [],\n",
    "             'source': [\n",
    "                 '#| hide\\n',\n",
    "                 'from nbdev.showdoc import *'\n",
    "             ]},\n",
    "            {'cell_type': 'code', 'execution_count': None, 'metadata': {}, 'outputs': [],\n",
    "             'source': [\n",
    "                 '#| export\\n',\n",
    "                 'from fastcore.all import *'\n",
    "             ]},\n",
    "            {'cell_type': 'code', 'execution_count': None, 'metadata': {}, 'outputs': [],\n",
    "             'source': [\n",
    "                 '#| hide\\n',\n",
    "                 'import nbdev; nbdev.nbdev_e'+'xport()' # nbdev_e**ort is a forbidden word\n",
    "             ]},\n",
    "      ], 'metadata': { 'kernelspec': { 'display_name': 'python3', 'language': 'python', 'name': 'python3' } }, 'nbformat': 4, 'nbformat_minor': 4\n",
    "    }\n",
    "    return template"
   ]
  },
  {
   "cell_type": "markdown",
   "id": "3c306b1c-1e7a-4230-a479-d06d544a150e",
   "metadata": {},
   "source": [
    "FIXME: Cell below results in an error for some reason"
   ]
  },
  {
   "cell_type": "code",
   "execution_count": null,
   "id": "9712d1d9-5527-4aab-92b6-ad396ac75040",
   "metadata": {},
   "outputs": [
    {
     "name": "stdout",
     "output_type": "stream",
     "text": [
      "# foo\n",
      "\n",
      "> Makes foo using bar\n",
      "---\n",
      "\n",
      "#| default_exp foo\n",
      "---\n",
      "\n",
      "#| hide\n",
      "from nbdev.showdoc import *\n",
      "---\n",
      "\n",
      "#| export\n",
      "from fastcore.all import *\n",
      "---\n",
      "\n",
      "#| hide\n",
      "import nbdev; nbdev.nbdev_export()\n"
     ]
    }
   ],
   "source": [
    "template = new_notebook_template(\"foo\", \"Makes foo using bar\")\n",
    "print('\\n---\\n\\n'.join(L(template['cells']).attrgot('source').map(''.join)))"
   ]
  },
  {
   "cell_type": "code",
   "execution_count": null,
   "id": "1485e5ff-357f-45dd-809f-3773746bcef9",
   "metadata": {},
   "outputs": [
    {
     "data": {
      "text/plain": [
       "'99'"
      ]
     },
     "execution_count": null,
     "metadata": {},
     "output_type": "execute_result"
    }
   ],
   "source": [
    "m = re.match(r'(\\d+).*\\.ipynb', '99ab_asd.ipynb')\n",
    "m.group(1)"
   ]
  },
  {
   "cell_type": "code",
   "execution_count": null,
   "id": "68bf4776-a783-4e60-96f2-bcc1cd957a3d",
   "metadata": {},
   "outputs": [],
   "source": [
    "#| export\n",
    "def zero_pad(num):\n",
    "    num = str(num)\n",
    "    return num if len(num) > 1 else f\"0{num}\""
   ]
  },
  {
   "cell_type": "code",
   "execution_count": null,
   "id": "d9c42758-dd9b-468d-bf26-473b857b3801",
   "metadata": {},
   "outputs": [],
   "source": [
    "test_eq(zero_pad(9), '09')\n",
    "test_eq(zero_pad(32), '32')"
   ]
  },
  {
   "cell_type": "code",
   "execution_count": null,
   "id": "e23566e9-514b-4ce8-8b74-ad509feae791",
   "metadata": {},
   "outputs": [],
   "source": [
    "#| export\n",
    "@call_parse\n",
    "def nbd_add(name:str, description:str,\n",
    "            at:Optional[int] = None # If specified, insert new notebook at a specific position\n",
    "           ):\n",
    "    \"Add new notebook to the project\"\n",
    "\n",
    "    prev_nbs = L(glob(\"[0-9]*?*.ipynb\"))\n",
    "    prev_ids = prev_nbs.map(lambda x: int(re.match(r'(\\d+).*\\.ipynb', x).group(1)))\n",
    "    prev_id = max(prev_ids)\n",
    "\n",
    "    new_id = prev_id + 1\n",
    "    new_id = zero_pad(new_id)\n",
    "    template = new_notebook_template(name, description)\n",
    "\n",
    "    with open(f\"{new_id}_{name}.ipynb\", 'w') as f:\n",
    "        json.dump(template, f)"
   ]
  },
  {
   "cell_type": "markdown",
   "id": "7b6dd82c-da4d-4f56-9415-0783b64dc81a",
   "metadata": {},
   "source": [
    "## nbd_watch"
   ]
  },
  {
   "cell_type": "markdown",
   "id": "a47476ea-a331-4eb4-b4b0-12f76603eb16",
   "metadata": {},
   "source": [
    "Adapted from https://github.com/ProCern/asyncinotify/blob/master/examples/recursivewatch.py"
   ]
  },
  {
   "cell_type": "code",
   "execution_count": null,
   "id": "ba329855-cb06-4668-b3eb-fcf82dd99d59",
   "metadata": {},
   "outputs": [],
   "source": [
    "#| export\n",
    "def get_directories_recursive(path: Path):\n",
    "    if path.is_dir():\n",
    "        yield path\n",
    "        for child in path.iterdir(): yield from get_directories_recursive(child)"
   ]
  },
  {
   "cell_type": "code",
   "execution_count": null,
   "id": "6cb0c015-9f33-4d78-98f1-28c4cb6a57b0",
   "metadata": {},
   "outputs": [
    {
     "data": {
      "text/plain": [
       "[Path('.'), Path('.ipynb_checkpoints'), Path('02_nbd')]"
      ]
     },
     "execution_count": null,
     "metadata": {},
     "output_type": "execute_result"
    }
   ],
   "source": [
    "list(get_directories_recursive(Path('.')))[:3]"
   ]
  },
  {
   "cell_type": "code",
   "execution_count": null,
   "id": "4b55992b-68c9-4166-ac5a-7c5e2d6409e0",
   "metadata": {},
   "outputs": [],
   "source": [
    "#| export\n",
    "def watch_recursive(path: Path, sync_timeout=1) -> AsyncGenerator[Event, None]:\n",
    "    mask = Mask.CREATE | Mask.MODIFY\n",
    "    with Inotify(sync_timeout=sync_timeout) as inotify:\n",
    "        for directory in get_directories_recursive(path): inotify.add_watch(directory, mask)\n",
    "        for event in inotify:\n",
    "            if Mask.CREATE in event.mask and event.path is not None and event.path.is_dir():\n",
    "                for directory in get_directories_recursive(event.path): inotify.add_watch(directory, mask)\n",
    "            if event.mask & mask: yield event"
   ]
  },
  {
   "cell_type": "code",
   "execution_count": null,
   "id": "044af812-183a-4d40-a77f-35ca9ff58c81",
   "metadata": {},
   "outputs": [],
   "source": [
    "#| export\n",
    "def inotify_debounce(path, debounce_interval=1):\n",
    "    combined_event = []\n",
    "    last_event_time = None\n",
    "\n",
    "    while True:\n",
    "        # NOTE: this is not busy waiting because watch_recursive acts as a sleep function\n",
    "        # This process only wakes up either every debounce interval or when directory events happen\n",
    "        for event in watch_recursive(path, debounce_interval):\n",
    "            current_time = time.time()\n",
    "    \n",
    "            if last_event_time is None or (current_time - last_event_time) <= debounce_interval:\n",
    "                combined_event.append(event)\n",
    "            else:\n",
    "                if combined_event:\n",
    "                    yield combined_event\n",
    "                    combined_event = [event]\n",
    "            last_event_time = current_time\n",
    "\n",
    "        if combined_event:\n",
    "            yield combined_event\n",
    "            combined_event = []"
   ]
  },
  {
   "cell_type": "code",
   "execution_count": null,
   "id": "e6c691a4-9c46-45ec-82d0-e952e662418a",
   "metadata": {},
   "outputs": [],
   "source": [
    "#| export\n",
    "def nbd_watch():\n",
    "    \"Watch `nbs` folder and automatically run `nbdev_export` on file change\"\n",
    "    for el in inotify_debounce(Path('nbs')):\n",
    "        print(f\"[{datetime.now()}] {el[0].name}\")\n",
    "        subprocess.run([\"nbdev_export\"])"
   ]
  },
  {
   "cell_type": "code",
   "execution_count": null,
   "id": "c8f0df35-7697-44ae-b9d5-248dd05815c3",
   "metadata": {},
   "outputs": [],
   "source": [
    "#| hide\n",
    "import nbdev; nbdev.nbdev_export()"
   ]
  },
  {
   "cell_type": "code",
   "execution_count": null,
   "id": "959d3568-d585-406a-a291-2a0737dad069",
   "metadata": {},
   "outputs": [],
   "source": []
  }
 ],
 "metadata": {
  "kernelspec": {
   "display_name": "python3",
   "language": "python",
   "name": "python3"
  }
 },
 "nbformat": 4,
 "nbformat_minor": 5
}
