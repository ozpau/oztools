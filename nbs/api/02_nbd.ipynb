{
 "cells": [
  {
   "cell_type": "markdown",
   "id": "9c8cf725-f4c7-4bd1-ab7f-c523a908ac4a",
   "metadata": {},
   "source": [
    "# nbd\n",
    "\n",
    "> Extra command line utilities for nbdev"
   ]
  },
  {
   "cell_type": "code",
   "execution_count": null,
   "id": "2eb94c62-53b2-49a8-94db-f6619642c2b7",
   "metadata": {},
   "outputs": [],
   "source": [
    "#| default_exp nbd"
   ]
  },
  {
   "cell_type": "code",
   "execution_count": null,
   "id": "06942082-f99c-4350-95cd-27aa67151481",
   "metadata": {},
   "outputs": [],
   "source": [
    "#| hide\n",
    "from nbdev.showdoc import *"
   ]
  },
  {
   "cell_type": "code",
   "execution_count": null,
   "id": "003c1693-ec99-4421-958d-3f9ab3404ac3",
   "metadata": {},
   "outputs": [],
   "source": [
    "#| export\n",
    "from pathlib import Path\n",
    "from fastcore.all import *\n",
    "import itertools as it\n",
    "import os, time\n",
    "from ghapi.all import *\n",
    "\n",
    "import configparser\n",
    "from pathlib import Path\n",
    "\n",
    "from oztools.core import *\n",
    "from oztools.gh import *\n",
    "\n",
    "import subprocess\n",
    "\n",
    "import json\n",
    "from fastcore.net import HTTP422UnprocessableEntityError\n",
    "\n",
    "from glob import glob\n",
    "import re, yaml, shutil\n",
    "import importlib.resources as res\n",
    "\n",
    "import asyncio\n",
    "from asyncinotify import Inotify, Event, Mask\n",
    "from pathlib import Path\n",
    "from datetime import datetime\n",
    "\n",
    "import hashlib"
   ]
  },
  {
   "cell_type": "code",
   "execution_count": null,
   "id": "dc3914d1-0099-461e-b518-4a55db59b930",
   "metadata": {},
   "outputs": [],
   "source": [
    "path = Path(\"../..\")\n",
    "Path.BASE_PATH = path"
   ]
  },
  {
   "cell_type": "code",
   "execution_count": null,
   "id": "85e6d37a-3f1c-4e88-8a50-92604bf79f59",
   "metadata": {},
   "outputs": [],
   "source": [
    "#| export\n",
    "def make_things_pretty():\n",
    "    # Fix not being able to click on \"source\" link in docs\n",
    "    with open(\"./nbs/styles.css\", 'a') as f: f.write(\"\\nh3 {\\n  width: fit-content;\\n}\")\n",
    "    # Add dark theme and make bright theme compatible with in in colorscheme\n",
    "    theme = {'light': 'united', 'dark': 'superhero'}\n",
    "    with open(\"./nbs/_quarto.yml\", 'r') as f: data = yaml.safe_load(f)\n",
    "    data['format']['html']['theme'] = theme\n",
    "    data['website']['favicon'] = 'favicon.png'\n",
    "    with open(\"./nbs/_quarto.yml\", 'w') as f: f.write(yaml.dump(data))\n",
    "    # Copy favicon\n",
    "    with res.as_file(res.files(\"oztools\")/\"data/favicon.png\") as f: shutil.copy(f, \"./nbs\")"
   ]
  },
  {
   "cell_type": "code",
   "execution_count": null,
   "id": "d324a91c-1c4d-4112-b442-48870b751d26",
   "metadata": {},
   "outputs": [],
   "source": [
    "#| export\n",
    "\n",
    "def nbd_new_fn(name:str, description:str, license:str=\"Apache-2.0\", private:bool=False):\n",
    "    \"Create a new nbdev project and setup github repo for it\"\n",
    "    gh_repo, local_repo = gh_new_repo_fn(name, description, license, private)\n",
    "    # this one makes github run CI twice (not nice)\n",
    "    #setup_pages_branch(local_repo, gh_repo.name)\n",
    "    os.chdir(gh_repo.name)\n",
    "    subprocess.run([\"nbdev_new\"]) # TODO: use .__wrapped__ property to extract original function\n",
    "    subprocess.run([\"nbdev_install_hooks\"])\n",
    "    make_things_pretty()\n",
    "    subprocess.run([\"nbdev_prepare\"])\n",
    "    subprocess.run([\"nbdev_clean\"])\n",
    "    # Hopefully using pip + some sleep would be enough for github to be ready\n",
    "    # to enable pages branch\n",
    "    commit_and_push(local_repo, \"Initial commit\")\n",
    "    subprocess.run([\"pip\", \"install\", \"-e\", \".[dev]\"])\n",
    "    print(\"Waiting for the github to finish build before enabling pages\")\n",
    "    print(\"Feel free to start working on the project\")\n",
    "    # TODO: maybe check github api if build is ready\n",
    "    while True:\n",
    "        time.sleep(20)\n",
    "        try:\n",
    "            setup_pages_branch_location(local_repo, gh_repo.name)\n",
    "            break\n",
    "        except HTTP422UnprocessableEntityError:\n",
    "            pass"
   ]
  },
  {
   "cell_type": "code",
   "execution_count": null,
   "id": "ad5c6501-4895-41fb-a0ca-d7b8b762338b",
   "metadata": {},
   "outputs": [],
   "source": [
    "#| export\n",
    "@call_parse\n",
    "def nbd_new(name:str, description:str, license:str=\"Apache-2.0\", private:bool=False):\n",
    "    \"Create a new nbdev project and setup github repo for it\"\n",
    "    nbd_new_fn(name, description, license, private)"
   ]
  },
  {
   "cell_type": "code",
   "execution_count": null,
   "id": "c67c8a71-7063-4ded-a91c-79de650812dd",
   "metadata": {},
   "outputs": [],
   "source": [
    "#| export\n",
    "\n",
    "def new_notebook_template(name, description):\n",
    "    template = {\n",
    "        'cells': [\n",
    "            {'cell_type': 'markdown', 'metadata': {},\n",
    "             'source': [\n",
    "                    f'# {name}\\n',\n",
    "                    '\\n',\n",
    "                    f'> {description}'\n",
    "                ]},\n",
    "            {'cell_type': 'code', 'execution_count': None, 'metadata': {}, 'outputs': [],\n",
    "             'source': [f'#| default_exp {name}']},\n",
    "            {'cell_type': 'code', 'execution_count': None, 'metadata': {}, 'outputs': [],\n",
    "             'source': [\n",
    "                 '#| hide\\n',\n",
    "                 'from nbdev.showdoc import *'\n",
    "             ]},\n",
    "            {'cell_type': 'code', 'execution_count': None, 'metadata': {}, 'outputs': [],\n",
    "             'source': [\n",
    "                 '#| export\\n',\n",
    "                 'from fastcore.all import *'\n",
    "             ]},\n",
    "            {'cell_type': 'code', 'execution_count': None, 'metadata': {}, 'outputs': [],\n",
    "             'source': [\n",
    "                 '#| hide\\n',\n",
    "                 'import nbdev; nbdev.nbdev_e'+'xport()' # nbdev_e**ort is a forbidden word\n",
    "             ]},\n",
    "      ], 'metadata': { 'kernelspec': { 'display_name': 'python3', 'language': 'python', 'name': 'python3' } }, 'nbformat': 4, 'nbformat_minor': 4\n",
    "    }\n",
    "    return template"
   ]
  },
  {
   "cell_type": "markdown",
   "id": "3c306b1c-1e7a-4230-a479-d06d544a150e",
   "metadata": {},
   "source": [
    "FIXME: Cell below results in an error for some reason"
   ]
  },
  {
   "cell_type": "code",
   "execution_count": null,
   "id": "9712d1d9-5527-4aab-92b6-ad396ac75040",
   "metadata": {},
   "outputs": [
    {
     "name": "stdout",
     "output_type": "stream",
     "text": [
      "# foo\n",
      "\n",
      "> Makes foo using bar\n",
      "---\n",
      "\n",
      "#| default_exp foo\n",
      "---\n",
      "\n",
      "#| hide\n",
      "from nbdev.showdoc import *\n",
      "---\n",
      "\n",
      "#| export\n",
      "from fastcore.all import *\n",
      "---\n",
      "\n",
      "#| hide\n",
      "import nbdev; nbdev.nbdev_export()\n"
     ]
    }
   ],
   "source": [
    "template = new_notebook_template(\"foo\", \"Makes foo using bar\")\n",
    "print('\\n---\\n\\n'.join(L(template['cells']).attrgot('source').map(''.join)))"
   ]
  },
  {
   "cell_type": "code",
   "execution_count": null,
   "id": "1485e5ff-357f-45dd-809f-3773746bcef9",
   "metadata": {},
   "outputs": [
    {
     "data": {
      "text/plain": [
       "'99'"
      ]
     },
     "execution_count": null,
     "metadata": {},
     "output_type": "execute_result"
    }
   ],
   "source": [
    "m = re.match(r'(\\d+).*\\.ipynb', '99ab_asd.ipynb')\n",
    "m.group(1)"
   ]
  },
  {
   "cell_type": "code",
   "execution_count": null,
   "id": "68bf4776-a783-4e60-96f2-bcc1cd957a3d",
   "metadata": {},
   "outputs": [],
   "source": [
    "#| export\n",
    "def zero_pad(num):\n",
    "    num = str(num)\n",
    "    return num if len(num) > 1 else f\"0{num}\""
   ]
  },
  {
   "cell_type": "code",
   "execution_count": null,
   "id": "d9c42758-dd9b-468d-bf26-473b857b3801",
   "metadata": {},
   "outputs": [],
   "source": [
    "test_eq(zero_pad(9), '09')\n",
    "test_eq(zero_pad(32), '32')"
   ]
  },
  {
   "cell_type": "code",
   "execution_count": null,
   "id": "e23566e9-514b-4ce8-8b74-ad509feae791",
   "metadata": {},
   "outputs": [],
   "source": [
    "#| export\n",
    "@call_parse\n",
    "def nbd_add(name:str, description:str,\n",
    "            at:Optional[int] = None # If specified, insert new notebook at a specific position\n",
    "           ):\n",
    "    \"Add new notebook to the project\"\n",
    "\n",
    "    prev_nbs = L(glob(\"[0-9]*?*.ipynb\"))\n",
    "    prev_ids = prev_nbs.map(lambda x: int(re.match(r'(\\d+).*\\.ipynb', x).group(1)))\n",
    "    prev_id = max(prev_ids)\n",
    "\n",
    "    new_id = prev_id + 1\n",
    "    new_id = zero_pad(new_id)\n",
    "    template = new_notebook_template(name, description)\n",
    "\n",
    "    with open(f\"{new_id}_{name}.ipynb\", 'w') as f:\n",
    "        json.dump(template, f)"
   ]
  },
  {
   "cell_type": "markdown",
   "id": "7b6dd82c-da4d-4f56-9415-0783b64dc81a",
   "metadata": {},
   "source": [
    "## nbd_watch"
   ]
  },
  {
   "cell_type": "markdown",
   "id": "a47476ea-a331-4eb4-b4b0-12f76603eb16",
   "metadata": {},
   "source": [
    "Adapted from https://github.com/ProCern/asyncinotify/blob/master/examples/recursivewatch.py"
   ]
  },
  {
   "cell_type": "code",
   "execution_count": null,
   "id": "ba329855-cb06-4668-b3eb-fcf82dd99d59",
   "metadata": {},
   "outputs": [],
   "source": [
    "#| export\n",
    "def get_directories_recursive(path: Path):\n",
    "    return (Path(d) for d,_,_ in os.walk(path))"
   ]
  },
  {
   "cell_type": "code",
   "execution_count": null,
   "id": "6cb0c015-9f33-4d78-98f1-28c4cb6a57b0",
   "metadata": {},
   "outputs": [
    {
     "data": {
      "text/plain": [
       "[Path('.'),\n",
       " Path('.ipynb_checkpoints'),\n",
       " Path('02_nbd'),\n",
       " Path('02_nbd/favicons'),\n",
       " Path('02_nbd/favicons/arlantr'),\n",
       " Path('02_nbd/favicons/food-ocal'),\n",
       " Path('02_nbd/favicons/food-ocal/vegetable'),\n",
       " Path('02_nbd/favicons/food-ocal/treat'),\n",
       " Path('02_nbd/favicons/food-ocal/pasta'),\n",
       " Path('02_nbd/favicons/food-ocal/fruit'),\n",
       " Path('02_nbd/favicons/food-ocal/drink'),\n",
       " Path('02_nbd/favicons/food-ocal/dairy'),\n",
       " Path('02_nbd/favicons/food-ocal/meat')]"
      ]
     },
     "execution_count": null,
     "metadata": {},
     "output_type": "execute_result"
    }
   ],
   "source": [
    "list(get_directories_recursive(Path('.')))"
   ]
  },
  {
   "cell_type": "markdown",
   "id": "98c917bc-5a21-41d3-91d3-d7671ac397cf",
   "metadata": {},
   "source": [
    "Algorithm:\n",
    "1. Watch forever until an event happens.\n",
    "2. After that, watch for 1s. If no more events fire, yield an event. Go back to step 1.\n",
    "3. If more events fire in that 1s, record those events and go back to step 2.\n",
    "\n",
    "Extra features:\n",
    "1. If new directories are added, mark them for watching.\n",
    "2. Skip events we are not interested in"
   ]
  },
  {
   "cell_type": "code",
   "execution_count": null,
   "id": "e43ece95-0ae9-4129-8b5e-7bf4d6237677",
   "metadata": {},
   "outputs": [],
   "source": [
    "#| export\n",
    "def watch_new_directories(inotify, event):\n",
    "    if Mask.CREATE in event.mask and event.path is not None and event.path.is_dir():\n",
    "        for directory in get_directories_recursive(event.path): inotify.add_watch(directory, mask)"
   ]
  },
  {
   "cell_type": "code",
   "execution_count": null,
   "id": "9ba695be-5659-4422-b264-c698d6a27fe5",
   "metadata": {},
   "outputs": [],
   "source": [
    "#| export\n",
    "def extract_exports(file):\n",
    "    return '\\n'.join([\n",
    "        ''.join(x['source']) for x in file.read_json()['cells']\n",
    "        if x['cell_type'] == 'code' and 'export' in ''.join(x['source'])\n",
    "    ])"
   ]
  },
  {
   "cell_type": "code",
   "execution_count": null,
   "id": "a3eb827a-9cc4-4650-b7b8-3776ee70d638",
   "metadata": {},
   "outputs": [],
   "source": [
    "#| export\n",
    "def get_hash(s):\n",
    "    h_func = hashlib.sha256(s.encode(\"utf-8\"))\n",
    "    return h_func.digest()"
   ]
  },
  {
   "cell_type": "code",
   "execution_count": null,
   "id": "c911cad9-fa22-42ef-8b70-ca6b538d33de",
   "metadata": {},
   "outputs": [
    {
     "data": {
      "text/plain": [
       "b'h\\xe6V\\xb2Q\\xe6~\\x83X\\xbe\\xf8H:\\xb0\\xd5\\x1cf\\x19\\xf3\\xe7\\xa1\\xa9\\xf0\\xe7X8\\xd4\\x1f\\xf3h\\xf7('"
      ]
     },
     "execution_count": null,
     "metadata": {},
     "output_type": "execute_result"
    }
   ],
   "source": [
    "get_hash(\"hello, world!\")"
   ]
  },
  {
   "cell_type": "code",
   "execution_count": null,
   "id": "c48764fe-965b-483b-91db-307d2945cb1e",
   "metadata": {},
   "outputs": [],
   "source": [
    "#| export\n",
    "def setup_tracking(path):\n",
    "    files = dict()\n",
    "    for d in get_directories_recursive(path):\n",
    "        if d.name == '.ipynb_checkpoints':\n",
    "            continue\n",
    "        for f in d.ls():\n",
    "            if not re.match(r'^(?!\\.\\~).+\\.ipynb$', f.name):\n",
    "                continue\n",
    "            files[f] = get_hash(extract_exports(f))\n",
    "    return files"
   ]
  },
  {
   "cell_type": "code",
   "execution_count": null,
   "id": "7595547d-0b07-4f9a-9b04-0ab1eaae80d1",
   "metadata": {},
   "outputs": [],
   "source": [
    "tracked_files = setup_tracking(Path('.'))"
   ]
  },
  {
   "cell_type": "code",
   "execution_count": null,
   "id": "dbe8bb23-7047-43c9-89c8-668f65f62aef",
   "metadata": {},
   "outputs": [
    {
     "data": {
      "text/plain": [
       "'.ipynb_checkpoints'"
      ]
     },
     "execution_count": null,
     "metadata": {},
     "output_type": "execute_result"
    }
   ],
   "source": [
    "list(get_directories_recursive(Path('.')))[1].name"
   ]
  },
  {
   "cell_type": "code",
   "execution_count": null,
   "id": "8f797a5a-f95d-4114-bdab-c0bcd0cf5587",
   "metadata": {},
   "outputs": [
    {
     "data": {
      "text/plain": [
       "dict_keys([Path('00_core.ipynb'), Path('01_gh.ipynb'), Path('03_kgl.ipynb'), Path('02_nbd.ipynb'), Path('04_format.ipynb')])"
      ]
     },
     "execution_count": null,
     "metadata": {},
     "output_type": "execute_result"
    }
   ],
   "source": [
    "tracked_files.keys()"
   ]
  },
  {
   "cell_type": "code",
   "execution_count": null,
   "id": "11db03fc-b064-4c4b-aa37-c73ac8fd6c1c",
   "metadata": {},
   "outputs": [],
   "source": [
    "s = \"hello\""
   ]
  },
  {
   "cell_type": "code",
   "execution_count": null,
   "id": "6bbfae90-d92f-4823-85a7-c73c510dada2",
   "metadata": {},
   "outputs": [
    {
     "data": {
      "text/plain": [
       "b'hello'"
      ]
     },
     "execution_count": null,
     "metadata": {},
     "output_type": "execute_result"
    }
   ],
   "source": [
    "s.encode(\"utf-8\")"
   ]
  },
  {
   "cell_type": "code",
   "execution_count": null,
   "id": "582d367b-1912-42d2-933c-2b0ce38804e4",
   "metadata": {},
   "outputs": [],
   "source": [
    "re.match(r'^(?!\\.\\~).+\\.ipynb$', '.~00_core.ipynb')"
   ]
  },
  {
   "cell_type": "code",
   "execution_count": null,
   "id": "e8cc151a-f9cf-425b-a58f-9b98a7927c49",
   "metadata": {},
   "outputs": [],
   "source": [
    "f = list(get_directories_recursive(Path('.')))[0].ls()[0]"
   ]
  },
  {
   "cell_type": "code",
   "execution_count": null,
   "id": "fb4553da-cb83-42aa-917b-1082d12aa428",
   "metadata": {},
   "outputs": [
    {
     "name": "stdout",
     "output_type": "stream",
     "text": [
      "#| export\n",
      "from fastcore.all import *\n",
      "#| export\n",
      "def pad(s: str, pad_to: int):\n",
      "    \"Pad `s` with spaces to the right\"\n",
      "    return s + \" \" * max(0, (pad_to - len(s)))\n",
      "#| export\n",
      "def attrkey(attr):\n",
      "    \"Create a function that fetches `attr` of its input\"\n",
      "    return lambda x: getattr(x, attr)\n",
      "#| export\n",
      "def str_enumerate(lst: list,\n",
      "                  start: int = 0 # enumerate from what number\n",
      "                 ) -> Iterable[str]:\n",
      "    \"Create aligned sequence of numbered strings for strings in `lst`\"\n",
      "    return map(lambda x: f\"  {pad(str(x[0]),2)}  {x[1]}\", enumerate(lst, start))\n",
      "#| export\n",
      "def cz(*funcs):\n",
      "    \"Compose functions together\"\n",
      "    def fn(x):\n",
      "        for fn in funcs:\n",
      "            x = fn(x)\n",
      "        return x\n",
      "    return fn\n",
      "#| hide\n",
      "import nbdev; nbdev.nbdev_export()\n"
     ]
    }
   ],
   "source": [
    "print('\\n'.join([''.join(x['source']) for x in f.read_json()['cells'] if x['cell_type'] == 'code' and 'export' in ''.join(x['source'])]))"
   ]
  },
  {
   "cell_type": "code",
   "execution_count": null,
   "id": "044af812-183a-4d40-a77f-35ca9ff58c81",
   "metadata": {},
   "outputs": [],
   "source": [
    "#| export\n",
    "def _inotify_watch(inotify, path, debounce_interval):\n",
    "    mask = (Mask.CREATE | Mask.MODIFY | Mask.MOVE | Mask.CLOSE_WRITE\n",
    "            | Mask.DELETE | Mask.DELETE_SELF | Mask.ATTRIB)\n",
    "    for directory in get_directories_recursive(path): inotify.add_watch(directory, mask)\n",
    "\n",
    "    combined_event = []\n",
    "    def process_event(event):\n",
    "        watch_new_directories(inotify, event)\n",
    "        if not event.mask & mask: return False\n",
    "        combined_event.append(event)\n",
    "        return True\n",
    "\n",
    "    while True:\n",
    "        inotify.sync_timeout=-1 # Watch forever\n",
    "        for event in inotify:\n",
    "            if not process_event(event): continue\n",
    "\n",
    "            inotify.sync_timeout = debounce_interval\n",
    "            for event_seq in inotify:\n",
    "                if not process_event(event): continue\n",
    "\n",
    "            # No more events seen in sync_timeout: yield events seen in this event sequence\n",
    "            if combined_event:\n",
    "                yield combined_event\n",
    "                combined_event = []"
   ]
  },
  {
   "cell_type": "code",
   "execution_count": null,
   "id": "e8db08f3-a64f-4c93-9aff-706fe6135feb",
   "metadata": {},
   "outputs": [],
   "source": [
    "#| export\n",
    "def inotify_watch(path, debounce_interval=0.5):\n",
    "    with Inotify() as inotify:\n",
    "        yield from _inotify_watch(inotify, path, debounce_interval)"
   ]
  },
  {
   "cell_type": "code",
   "execution_count": null,
   "id": "7a012ee0-8f76-46f3-937c-311663a6c1a7",
   "metadata": {},
   "outputs": [
    {
     "data": {
      "text/plain": [
       "True"
      ]
     },
     "execution_count": null,
     "metadata": {},
     "output_type": "execute_result"
    }
   ],
   "source": [
    "s = '.~04_core.ipynb'\n",
    "s.startswith('.~')"
   ]
  },
  {
   "cell_type": "code",
   "execution_count": null,
   "id": "804e86fd-d11f-4bc5-966b-8ea2c4c3dae5",
   "metadata": {},
   "outputs": [
    {
     "data": {
      "text/plain": [
       "'.~04_core.ipynb'"
      ]
     },
     "execution_count": null,
     "metadata": {},
     "output_type": "execute_result"
    }
   ],
   "source": [
    "Path('/user/home/.~04_core.ipynb').name"
   ]
  },
  {
   "cell_type": "markdown",
   "id": "bb785756-2876-4f77-847c-23ca35b3c7b3",
   "metadata": {},
   "source": [
    "Right now, it seems the best way to figure out\n",
    "when user actually saves is to count number of events:\n",
    "- Saving file manually results in at least 13 events,\n",
    "  while autosave only produces 9 events (sometimes 10)."
   ]
  },
  {
   "cell_type": "code",
   "execution_count": null,
   "id": "b80abbaa-38ab-4253-88b2-9337fb512c58",
   "metadata": {},
   "outputs": [
    {
     "data": {
      "text/plain": [
       "'04_core.ipynb'"
      ]
     },
     "execution_count": null,
     "metadata": {},
     "output_type": "execute_result"
    }
   ],
   "source": [
    "k = re.match(r'\\.\\~(.*.ipynb)', '.~04_core.ipynb')\n",
    "k.group(1)"
   ]
  },
  {
   "cell_type": "code",
   "execution_count": null,
   "id": "cd014c2a-c4b3-4ce9-99d5-448028157dc9",
   "metadata": {},
   "outputs": [],
   "source": [
    "#| export\n",
    "def get_files_updated(events):\n",
    "    unique = set((e.watch.path, e.name.name) for e in events)\n",
    "    ipynb = ((path, re.match(r'\\.\\~(.*.ipynb)', name)) for path, name in unique)\n",
    "    ipynb = [path/name.group(1) for path, name in ipynb if name]\n",
    "    return ipynb"
   ]
  },
  {
   "cell_type": "code",
   "execution_count": null,
   "id": "3a51c090-054d-48a3-91e1-28a6abcb8611",
   "metadata": {},
   "outputs": [
    {
     "data": {
      "text/plain": [
       "Path('nbs/api')"
      ]
     },
     "execution_count": null,
     "metadata": {},
     "output_type": "execute_result"
    }
   ],
   "source": [
    "p = Path('nbs/api/02_nbd.ipynb')\n",
    "p.parent"
   ]
  },
  {
   "cell_type": "code",
   "execution_count": null,
   "id": "d45190a8-c79d-4b05-b77c-330cb707db81",
   "metadata": {},
   "outputs": [
    {
     "data": {
      "text/plain": [
       "'api/02_nbd.ipynb'"
      ]
     },
     "execution_count": null,
     "metadata": {},
     "output_type": "execute_result"
    }
   ],
   "source": [
    "p.relative_to(Path('nbs')).as_posix()"
   ]
  },
  {
   "cell_type": "code",
   "execution_count": null,
   "id": "d43cadd4-9ce5-4133-92c9-1247b34c3d58",
   "metadata": {},
   "outputs": [],
   "source": [
    "#| export\n",
    "def anything_updated(tracked_files, events):\n",
    "    updated = []\n",
    "    for filename in get_files_updated(events):\n",
    "        new_hash = get_hash(extract_exports(filename))\n",
    "        if new_hash != tracked_files[filename]:\n",
    "            updated.append(filename)\n",
    "            tracked_files[filename] = new_hash\n",
    "    return updated"
   ]
  },
  {
   "cell_type": "code",
   "execution_count": null,
   "id": "e6c691a4-9c46-45ec-82d0-e952e662418a",
   "metadata": {},
   "outputs": [],
   "source": [
    "#| export\n",
    "def nbd_watch():\n",
    "    \"Watch `nbs` folder and automatically run `nbdev_export` on file change\"\n",
    "\n",
    "    path = Path('nbs')\n",
    "    tracked_files = setup_tracking(path)\n",
    "\n",
    "    for events in inotify_watch(path):\n",
    "        # filter events\n",
    "        # - ignore temporary file saves (this happens automatically, and we don't\n",
    "        #   want to refresh anything unless user explicitly saves a file)\n",
    "        if len(events) < 13: continue\n",
    "\n",
    "        updated = anything_updated(tracked_files, events)\n",
    "        if not updated: continue\n",
    "\n",
    "        #for e in events: print(e)\n",
    "        print(f\"[{datetime.now()}] {' '.join(p.relative_to(Path('nbs')).as_posix() for p in updated)}\")\n",
    "        subprocess.run([\"nbdev_export\"])"
   ]
  },
  {
   "cell_type": "code",
   "execution_count": null,
   "id": "c8f0df35-7697-44ae-b9d5-248dd05815c3",
   "metadata": {},
   "outputs": [],
   "source": [
    "#| hide\n",
    "import nbdev; nbdev.nbdev_export()"
   ]
  },
  {
   "cell_type": "code",
   "execution_count": null,
   "id": "8b0ecc39-256a-4b1b-9f0b-8cc6ca823c1d",
   "metadata": {},
   "outputs": [],
   "source": []
  }
 ],
 "metadata": {
  "kernelspec": {
   "display_name": "python3",
   "language": "python",
   "name": "python3"
  }
 },
 "nbformat": 4,
 "nbformat_minor": 5
}
