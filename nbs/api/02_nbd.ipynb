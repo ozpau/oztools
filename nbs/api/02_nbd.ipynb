{
 "cells": [
  {
   "cell_type": "markdown",
   "id": "9c8cf725-f4c7-4bd1-ab7f-c523a908ac4a",
   "metadata": {},
   "source": [
    "# nbd\n",
    "\n",
    "> Extra command line utilities for nbdev"
   ]
  },
  {
   "cell_type": "code",
   "execution_count": null,
   "id": "2eb94c62-53b2-49a8-94db-f6619642c2b7",
   "metadata": {},
   "outputs": [],
   "source": [
    "#| default_exp nbd"
   ]
  },
  {
   "cell_type": "code",
   "execution_count": null,
   "id": "06942082-f99c-4350-95cd-27aa67151481",
   "metadata": {},
   "outputs": [],
   "source": [
    "#| hide\n",
    "from nbdev.showdoc import *"
   ]
  },
  {
   "cell_type": "code",
   "execution_count": null,
   "id": "003c1693-ec99-4421-958d-3f9ab3404ac3",
   "metadata": {},
   "outputs": [],
   "source": [
    "#| export\n",
    "from pathlib import Path\n",
    "from fastcore.all import *\n",
    "import itertools as it\n",
    "import os, time\n",
    "from ghapi.all import *\n",
    "\n",
    "import configparser\n",
    "from pathlib import Path\n",
    "\n",
    "from oztools.core import *\n",
    "from oztools.gh import *\n",
    "\n",
    "import subprocess\n",
    "\n",
    "import json\n",
    "from fastcore.net import HTTP422UnprocessableEntityError\n",
    "\n",
    "from glob import glob\n",
    "import re, yaml, shutil\n",
    "import importlib.resources as res\n",
    "\n",
    "import asyncio\n",
    "from asyncinotify import Inotify, Event, Mask\n",
    "from pathlib import Path\n",
    "from typing import Generator, AsyncGenerator\n",
    "from datetime import datetime"
   ]
  },
  {
   "cell_type": "code",
   "execution_count": null,
   "id": "dc3914d1-0099-461e-b518-4a55db59b930",
   "metadata": {},
   "outputs": [],
   "source": [
    "path = Path(\"../..\")\n",
    "Path.BASE_PATH = path"
   ]
  },
  {
   "cell_type": "code",
   "execution_count": null,
   "id": "85e6d37a-3f1c-4e88-8a50-92604bf79f59",
   "metadata": {},
   "outputs": [],
   "source": [
    "#| export\n",
    "def make_things_pretty():\n",
    "    # Fix not being able to click on \"source\" link in docs\n",
    "    with open(\"./nbs/styles.css\", 'a') as f: f.write(\"\\nh3 {\\n  width: fit-content;\\n}\")\n",
    "    # Add dark theme and make bright theme compatible with in in colorscheme\n",
    "    theme = {'light': 'united', 'dark': 'superhero'}\n",
    "    with open(\"./nbs/_quarto.yml\", 'r') as f: data = yaml.safe_load(f)\n",
    "    data['format']['html']['theme'] = theme\n",
    "    data['website']['favicon'] = 'favicon.png'\n",
    "    with open(\"./nbs/_quarto.yml\", 'w') as f: f.write(yaml.dump(data))\n",
    "    # Copy favicon\n",
    "    with res.as_file(res.files(\"oztools\")/\"data/favicon.png\") as f: shutil.copy(f, \"./nbs\")"
   ]
  },
  {
   "cell_type": "code",
   "execution_count": null,
   "id": "d324a91c-1c4d-4112-b442-48870b751d26",
   "metadata": {},
   "outputs": [],
   "source": [
    "#| export\n",
    "\n",
    "def nbd_new_fn(name:str, description:str, license:str=\"Apache-2.0\", private:bool=False):\n",
    "    \"Create a new nbdev project and setup github repo for it\"\n",
    "    gh_repo, local_repo = gh_new_repo_fn(name, description, license, private)\n",
    "    # this one makes github run CI twice (not nice)\n",
    "    #setup_pages_branch(local_repo, gh_repo.name)\n",
    "    os.chdir(gh_repo.name)\n",
    "    subprocess.run([\"nbdev_new\"]) # TODO: use .__wrapped__ property to extract original function\n",
    "    subprocess.run([\"nbdev_install_hooks\"])\n",
    "    make_things_pretty()\n",
    "    subprocess.run([\"nbdev_prepare\"])\n",
    "    subprocess.run([\"nbdev_clean\"])\n",
    "    # Hopefully using pip + some sleep would be enough for github to be ready\n",
    "    # to enable pages branch\n",
    "    commit_and_push(local_repo, \"Initial commit\")\n",
    "    subprocess.run([\"pip\", \"install\", \"-e\", \".[dev]\"])\n",
    "    print(\"Waiting for the github to finish build before enabling pages\")\n",
    "    print(\"Feel free to start working on the project\")\n",
    "    # TODO: maybe check github api if build is ready\n",
    "    while True:\n",
    "        time.sleep(20)\n",
    "        try:\n",
    "            setup_pages_branch_location(local_repo, gh_repo.name)\n",
    "            break\n",
    "        except HTTP422UnprocessableEntityError:\n",
    "            pass"
   ]
  },
  {
   "cell_type": "code",
   "execution_count": null,
   "id": "ad5c6501-4895-41fb-a0ca-d7b8b762338b",
   "metadata": {},
   "outputs": [],
   "source": [
    "#| export\n",
    "@call_parse\n",
    "def nbd_new(name:str, description:str, license:str=\"Apache-2.0\", private:bool=False):\n",
    "    \"Create a new nbdev project and setup github repo for it\"\n",
    "    nbd_new_fn(name, description, license, private)"
   ]
  },
  {
   "cell_type": "code",
   "execution_count": null,
   "id": "c67c8a71-7063-4ded-a91c-79de650812dd",
   "metadata": {},
   "outputs": [],
   "source": [
    "#| export\n",
    "\n",
    "def new_notebook_template(name, description):\n",
    "    template = {\n",
    "        'cells': [\n",
    "            {'cell_type': 'markdown', 'metadata': {},\n",
    "             'source': [\n",
    "                    f'# {name}\\n',\n",
    "                    '\\n',\n",
    "                    f'> {description}'\n",
    "                ]},\n",
    "            {'cell_type': 'code', 'execution_count': None, 'metadata': {}, 'outputs': [],\n",
    "             'source': [f'#| default_exp {name}']},\n",
    "            {'cell_type': 'code', 'execution_count': None, 'metadata': {}, 'outputs': [],\n",
    "             'source': [\n",
    "                 '#| hide\\n',\n",
    "                 'from nbdev.showdoc import *'\n",
    "             ]},\n",
    "            {'cell_type': 'code', 'execution_count': None, 'metadata': {}, 'outputs': [],\n",
    "             'source': [\n",
    "                 '#| export\\n',\n",
    "                 'from fastcore.all import *'\n",
    "             ]},\n",
    "            {'cell_type': 'code', 'execution_count': None, 'metadata': {}, 'outputs': [],\n",
    "             'source': [\n",
    "                 '#| hide\\n',\n",
    "                 'import nbdev; nbdev.nbdev_e'+'xport()' # nbdev_e**ort is a forbidden word\n",
    "             ]},\n",
    "      ], 'metadata': { 'kernelspec': { 'display_name': 'python3', 'language': 'python', 'name': 'python3' } }, 'nbformat': 4, 'nbformat_minor': 4\n",
    "    }\n",
    "    return template"
   ]
  },
  {
   "cell_type": "markdown",
   "id": "3c306b1c-1e7a-4230-a479-d06d544a150e",
   "metadata": {},
   "source": [
    "FIXME: Cell below results in an error for some reason"
   ]
  },
  {
   "cell_type": "code",
   "execution_count": null,
   "id": "9712d1d9-5527-4aab-92b6-ad396ac75040",
   "metadata": {},
   "outputs": [
    {
     "name": "stdout",
     "output_type": "stream",
     "text": [
      "# foo\n",
      "\n",
      "> Makes foo using bar\n",
      "---\n",
      "\n",
      "#| default_exp foo\n",
      "---\n",
      "\n",
      "#| hide\n",
      "from nbdev.showdoc import *\n",
      "---\n",
      "\n",
      "#| export\n",
      "from fastcore.all import *\n",
      "---\n",
      "\n",
      "#| hide\n",
      "import nbdev; nbdev.nbdev_export()\n"
     ]
    }
   ],
   "source": [
    "template = new_notebook_template(\"foo\", \"Makes foo using bar\")\n",
    "print('\\n---\\n\\n'.join(L(template['cells']).attrgot('source').map(''.join)))"
   ]
  },
  {
   "cell_type": "code",
   "execution_count": null,
   "id": "1485e5ff-357f-45dd-809f-3773746bcef9",
   "metadata": {},
   "outputs": [
    {
     "data": {
      "text/plain": [
       "'99'"
      ]
     },
     "execution_count": null,
     "metadata": {},
     "output_type": "execute_result"
    }
   ],
   "source": [
    "m = re.match(r'(\\d+).*\\.ipynb', '99ab_asd.ipynb')\n",
    "m.group(1)"
   ]
  },
  {
   "cell_type": "code",
   "execution_count": null,
   "id": "68bf4776-a783-4e60-96f2-bcc1cd957a3d",
   "metadata": {},
   "outputs": [],
   "source": [
    "#| export\n",
    "def zero_pad(num):\n",
    "    num = str(num)\n",
    "    return num if len(num) > 1 else f\"0{num}\""
   ]
  },
  {
   "cell_type": "code",
   "execution_count": null,
   "id": "d9c42758-dd9b-468d-bf26-473b857b3801",
   "metadata": {},
   "outputs": [],
   "source": [
    "test_eq(zero_pad(9), '09')\n",
    "test_eq(zero_pad(32), '32')"
   ]
  },
  {
   "cell_type": "code",
   "execution_count": null,
   "id": "e23566e9-514b-4ce8-8b74-ad509feae791",
   "metadata": {},
   "outputs": [],
   "source": [
    "#| export\n",
    "@call_parse\n",
    "def nbd_add(name:str, description:str,\n",
    "            at:Optional[int] = None # If specified, insert new notebook at a specific position\n",
    "           ):\n",
    "    \"Add new notebook to the project\"\n",
    "\n",
    "    prev_nbs = L(glob(\"[0-9]*?*.ipynb\"))\n",
    "    prev_ids = prev_nbs.map(lambda x: int(re.match(r'(\\d+).*\\.ipynb', x).group(1)))\n",
    "    prev_id = max(prev_ids)\n",
    "\n",
    "    new_id = prev_id + 1\n",
    "    new_id = zero_pad(new_id)\n",
    "    template = new_notebook_template(name, description)\n",
    "\n",
    "    with open(f\"{new_id}_{name}.ipynb\", 'w') as f:\n",
    "        json.dump(template, f)"
   ]
  },
  {
   "cell_type": "markdown",
   "id": "7b6dd82c-da4d-4f56-9415-0783b64dc81a",
   "metadata": {},
   "source": [
    "## nbd_watch"
   ]
  },
  {
   "cell_type": "markdown",
   "id": "a47476ea-a331-4eb4-b4b0-12f76603eb16",
   "metadata": {},
   "source": [
    "Adapted from https://github.com/ProCern/asyncinotify/blob/master/examples/recursivewatch.py"
   ]
  },
  {
   "cell_type": "code",
   "execution_count": null,
   "id": "ba329855-cb06-4668-b3eb-fcf82dd99d59",
   "metadata": {},
   "outputs": [],
   "source": [
    "#| export\n",
    "def get_directories_recursive(path: Path):\n",
    "    if path.is_dir():\n",
    "        yield path\n",
    "        for child in path.iterdir(): yield from get_directories_recursive(child)"
   ]
  },
  {
   "cell_type": "code",
   "execution_count": null,
   "id": "6cb0c015-9f33-4d78-98f1-28c4cb6a57b0",
   "metadata": {},
   "outputs": [
    {
     "data": {
      "text/plain": [
       "[Path('.'),\n",
       " Path('.ipynb_checkpoints'),\n",
       " Path('02_nbd'),\n",
       " Path('02_nbd/favicons'),\n",
       " Path('02_nbd/favicons/arlantr'),\n",
       " Path('02_nbd/favicons/food-ocal'),\n",
       " Path('02_nbd/favicons/food-ocal/vegetable'),\n",
       " Path('02_nbd/favicons/food-ocal/treat'),\n",
       " Path('02_nbd/favicons/food-ocal/pasta'),\n",
       " Path('02_nbd/favicons/food-ocal/fruit'),\n",
       " Path('02_nbd/favicons/food-ocal/drink'),\n",
       " Path('02_nbd/favicons/food-ocal/dairy'),\n",
       " Path('02_nbd/favicons/food-ocal/meat')]"
      ]
     },
     "execution_count": null,
     "metadata": {},
     "output_type": "execute_result"
    }
   ],
   "source": [
    "list(get_directories_recursive(Path('.')))"
   ]
  },
  {
   "cell_type": "code",
   "execution_count": null,
   "id": "624330fe-de17-4fa3-be21-fd4af234d787",
   "metadata": {},
   "outputs": [],
   "source": [
    "import asyncinotify"
   ]
  },
  {
   "cell_type": "code",
   "execution_count": null,
   "id": "7f0d0c9b-de26-431d-b12c-3e1b356ab96e",
   "metadata": {},
   "outputs": [
    {
     "data": {
      "text/plain": [
       "\u001b[31mInit signature:\u001b[39m asyncinotify.InitFlags(*values)\n",
       "\u001b[31mSource:\u001b[39m        \n",
       "\u001b[38;5;28;01mclass\u001b[39;00m InitFlags(IntFlag):\n",
       "    \u001b[33m'''Init flags for use with the :class:`Inotify` constructor.\u001b[39m\n",
       "\n",
       "\u001b[33m    You shouldn't have a reason to use this, as :attr:`CLOEXEC` will be desired\u001b[39m\n",
       "\u001b[33m    because there's no reason for exec'd children to inherit inotify handles\u001b[39m\n",
       "\u001b[33m    here, and :attr:`NONBLOCK` shouldn't even make a difference due to the\u001b[39m\n",
       "\u001b[33m    handle always being watched with select, unless you are using synchronous mode.\u001b[39m\n",
       "\u001b[33m    '''\u001b[39m\n",
       "\n",
       "    __slots__ = ()\n",
       "\n",
       "    \u001b[38;5;66;03m#: Set the close-on-exec (FD_CLOEXEC) flag on the new file descriptor.  See\u001b[39;00m\n",
       "    \u001b[38;5;66;03m#: the description of the O_CLOEXEC flag in  open(2)  for  reasons why this\u001b[39;00m\n",
       "    \u001b[38;5;66;03m#: may be useful.\u001b[39;00m\n",
       "    CLOEXEC = os.O_CLOEXEC\n",
       "\n",
       "    \u001b[38;5;66;03m#: Set the O_NONBLOCK file status flag on the open file description (see\u001b[39;00m\n",
       "    \u001b[38;5;66;03m#: open(2)) referred to by the new file descriptor.  Using this flag saves\u001b[39;00m\n",
       "    \u001b[38;5;66;03m#: extra calls to fcntl(2) to achieve the same result.\u001b[39;00m\n",
       "    NONBLOCK = os.O_NONBLOCK\n",
       "\u001b[31mFile:\u001b[39m           ~/python/venv/lib/python3.12/site-packages/asyncinotify/__init__.py\n",
       "\u001b[31mType:\u001b[39m           EnumType\n",
       "\u001b[31mSubclasses:\u001b[39m     "
      ]
     },
     "metadata": {},
     "output_type": "display_data"
    }
   ],
   "source": [
    "asyncinotify.InitFlags??"
   ]
  },
  {
   "cell_type": "code",
   "execution_count": null,
   "id": "8eafc1cf-736e-43ba-ab47-8175020d6d99",
   "metadata": {},
   "outputs": [
    {
     "data": {
      "text/plain": [
       "\u001b[31mInit signature:\u001b[39m\n",
       "Inotify(\n",
       "    flags: asyncinotify.InitFlags = <InitFlags.CLOEXEC|NONBLOCK: \u001b[32m526336\u001b[39m>,\n",
       "    cache_size: int = \u001b[32m10\u001b[39m,\n",
       "    sync_timeout: Optional[float] = \u001b[38;5;28;01mNone\u001b[39;00m,\n",
       ") -> \u001b[38;5;28;01mNone\u001b[39;00m\n",
       "\u001b[31mSource:\u001b[39m        \n",
       "\u001b[38;5;28;01mclass\u001b[39;00m Inotify:\n",
       "    \u001b[33m'''Core Inotify class.\u001b[39m\n",
       "\n",
       "\u001b[33m    Fetches events in bulk, if possible, and stores them internally.\u001b[39m\n",
       "\n",
       "\u001b[33m    Use :meth:`get` to get a single event.  This class operates as an async\u001b[39m\n",
       "\u001b[33m    generator, and may be asynchronously iterated, and will return events\u001b[39m\n",
       "\u001b[33m    forever.\u001b[39m\n",
       "\n",
       "\u001b[33m    :param int cache_size: The max number of full-size events to cache.  The\u001b[39m\n",
       "\u001b[33m        actual number may be higher, because most events will not be\u001b[39m\n",
       "\u001b[33m        full-sized.\u001b[39m\n",
       "\n",
       "\u001b[33m    :param sync_timeout: If this is not None, then sync_get will wait on an\u001b[39m\n",
       "\u001b[33m        epoll call for that long, and return None on a timeout.  Normal\u001b[39m\n",
       "\u001b[33m        iteration will also exit on a timeout.\u001b[39m\n",
       "\u001b[33m    '''\u001b[39m\n",
       "\n",
       "    __slots__ = (\u001b[33m'_fd'\u001b[39m, \u001b[33m'_watches'\u001b[39m, \u001b[33m'_events'\u001b[39m, \u001b[33m'_epoll'\u001b[39m, \u001b[33m'_sync_timeout'\u001b[39m, \u001b[33m'_cache_size'\u001b[39m, \u001b[33m'__weakref__'\u001b[39m)\n",
       "\n",
       "    \u001b[38;5;28;01mdef\u001b[39;00m __init__(self,\n",
       "                 flags: InitFlags = InitFlags.CLOEXEC | InitFlags.NONBLOCK,\n",
       "                 cache_size: int = \u001b[32m10\u001b[39m, sync_timeout: Optional[float] = \u001b[38;5;28;01mNone\u001b[39;00m) -> \u001b[38;5;28;01mNone\u001b[39;00m:\n",
       "        self.cache_size = cache_size\n",
       "        fd = _ffi.libc.inotify_init1(flags)\n",
       "        self._fd: Optional[int] = fd\n",
       "\n",
       "        \u001b[38;5;66;03m# Watches dict used for matching events up with the watch descriptor,\u001b[39;00m\n",
       "        \u001b[38;5;66;03m# in order to get the full item path.\u001b[39;00m\n",
       "        self._watches: Dict[int, Watch] = {}\n",
       "\n",
       "        self._events: List[Event] = []\n",
       "        self._epoll: select.epoll = select.epoll()\n",
       "        self._epoll.register(fd, select.EPOLLIN)\n",
       "        self.sync_timeout = sync_timeout\n",
       "\n",
       "    @property\n",
       "    \u001b[38;5;28;01mdef\u001b[39;00m sync_timeout(self) -> Optional[float]:\n",
       "        \u001b[33m'''The timeout for :meth:`sync_get` and synchronous iteration.\u001b[39m\n",
       "\n",
       "\u001b[33m        Set this to None to disable and -1 to wait forever.  These options can\u001b[39m\n",
       "\u001b[33m        be different depending on the blocking flags selected.\u001b[39m\n",
       "\u001b[33m        '''\u001b[39m\n",
       "        \u001b[38;5;28;01mreturn\u001b[39;00m self._sync_timeout\n",
       "\n",
       "    @sync_timeout.setter\n",
       "    \u001b[38;5;28;01mdef\u001b[39;00m sync_timeout(self, value: Optional[float]) -> \u001b[38;5;28;01mNone\u001b[39;00m:\n",
       "        self._sync_timeout = value\n",
       "\n",
       "    @property\n",
       "    \u001b[38;5;28;01mdef\u001b[39;00m fd(self) -> int:\n",
       "        \u001b[33m'''Get the raw file descriptor.\u001b[39m\n",
       "\u001b[33m        '''\u001b[39m\n",
       "        \u001b[38;5;28;01mif\u001b[39;00m self._fd \u001b[38;5;28;01mis\u001b[39;00m \u001b[38;5;28;01mNone\u001b[39;00m:\n",
       "            \u001b[38;5;28;01mraise\u001b[39;00m ValueError(\u001b[33m'Can not work with closed inotify'\u001b[39m)\n",
       "        \u001b[38;5;28;01melse\u001b[39;00m:\n",
       "            \u001b[38;5;28;01mreturn\u001b[39;00m self._fd\n",
       "\n",
       "    \u001b[38;5;28;01mdef\u001b[39;00m add_watch(self, path: Union[os.PathLike, bytes, str], mask: Mask) -> Watch:\n",
       "        \u001b[33m'''Add a watch dir.\u001b[39m\n",
       "\n",
       "\u001b[33m        :param pathlib.Path path: a string, bytes, or PathLike object\u001b[39m\n",
       "\u001b[33m        :param Mask mask: a Mask determining how the watch behaves\u001b[39m\n",
       "\n",
       "\u001b[33m        :returns: The relevant Watch instance\u001b[39m\n",
       "\u001b[33m        '''\u001b[39m\n",
       "\n",
       "        \u001b[38;5;66;03m# Convert bytes to Path\u001b[39;00m\n",
       "        \u001b[38;5;28;01mif\u001b[39;00m isinstance(path, bytes):\n",
       "            bytepath = path\n",
       "            path = Path(os.fsdecode(bytepath))\n",
       "        \u001b[38;5;28;01melse\u001b[39;00m:\n",
       "            \u001b[38;5;66;03m# HACK: For some reason, pyright is convinced that path might be a\u001b[39;00m\n",
       "            \u001b[38;5;66;03m# memoryview or a bytearray here\u001b[39;00m\n",
       "            \u001b[38;5;28;01mif\u001b[39;00m TYPE_CHECKING:\n",
       "                path = cast(Union[os.PathLike, str], path)\n",
       "\n",
       "            \u001b[38;5;66;03m# Convert non-Path to Path\u001b[39;00m\n",
       "            \u001b[38;5;28;01mif\u001b[39;00m \u001b[38;5;28;01mnot\u001b[39;00m isinstance(path, Path):\n",
       "                path = Path(path)\n",
       "            bytepath = bytes(path)\n",
       "\n",
       "        \u001b[38;5;28;01mtry\u001b[39;00m:\n",
       "            wd = _ffi.libc.inotify_add_watch(self.fd, bytepath, mask)\n",
       "        \u001b[38;5;28;01mexcept\u001b[39;00m OSError \u001b[38;5;28;01mas\u001b[39;00m e:\n",
       "            e.filename = path\n",
       "            \u001b[38;5;28;01mraise\u001b[39;00m e\n",
       "\n",
       "        \u001b[38;5;66;03m# Happens for things like an existing watch instance being modified,\u001b[39;00m\n",
       "        \u001b[38;5;66;03m# like MASK_ADD\u001b[39;00m\n",
       "        \u001b[38;5;28;01mif\u001b[39;00m wd \u001b[38;5;28;01min\u001b[39;00m self._watches:\n",
       "            watch = self._watches[wd]\n",
       "        \u001b[38;5;28;01melse\u001b[39;00m:\n",
       "            watch = Watch(\n",
       "                inotify=self,\n",
       "                path=path,\n",
       "                mask=mask,\n",
       "                wd=wd,\n",
       "            )\n",
       "            self._watches[wd] = watch\n",
       "\n",
       "        \u001b[38;5;28;01mreturn\u001b[39;00m watch\n",
       "\n",
       "    \u001b[38;5;28;01mdef\u001b[39;00m rm_watch(self, watch: Watch) -> \u001b[38;5;28;01mNone\u001b[39;00m:\n",
       "        \u001b[33m'''Remove a watch from this inotify instance.\u001b[39m\n",
       "\n",
       "\u001b[33m        This will generate an :attr:`Mask.IGNORED` event that contains the :class:`Watch`\u001b[39m\n",
       "\u001b[33m        instance.\u001b[39m\n",
       "\n",
       "\u001b[33m        :param Watch watch: the :class:`Watch` to remove\u001b[39m\n",
       "\u001b[33m        '''\u001b[39m\n",
       "\n",
       "        _ffi.libc.inotify_rm_watch(self.fd, watch.wd)\n",
       "\n",
       "        \u001b[38;5;66;03m# This does not remove from self._watches because the IGNORE event will\u001b[39;00m\n",
       "        \u001b[38;5;66;03m# do that for you.\u001b[39;00m\n",
       "\n",
       "    \u001b[38;5;28;01mdef\u001b[39;00m __enter__(self) -> \u001b[33m'Inotify'\u001b[39m:\n",
       "        \u001b[38;5;28;01mreturn\u001b[39;00m self\n",
       "\n",
       "    \u001b[38;5;28;01mdef\u001b[39;00m __exit__(self, *args, **kwargs) -> \u001b[38;5;28;01mNone\u001b[39;00m:\n",
       "        self.close()\n",
       "\n",
       "    \u001b[38;5;28;01mdef\u001b[39;00m __del__(self) -> \u001b[38;5;28;01mNone\u001b[39;00m:\n",
       "        self.close()\n",
       "\n",
       "    \u001b[38;5;28;01mdef\u001b[39;00m close(self) -> \u001b[38;5;28;01mNone\u001b[39;00m:\n",
       "        \u001b[33m'''Close the file descriptor for this inotify.\u001b[39m\n",
       "\n",
       "\u001b[33m        Once this is done, do not do anything more with this inotify instance.\u001b[39m\n",
       "\u001b[33m        Associated :class:`Watch` and :class:`Event` instances are still valid,\u001b[39m\n",
       "\u001b[33m        but no more may be created, and if this :class:`Inotify` goes out of\u001b[39m\n",
       "\u001b[33m        scope and is cleaned up, the :class:`Event` may lose its\u001b[39m\n",
       "\u001b[33m        :class:`Watch` if you don't have a reference to it.\u001b[39m\n",
       "\n",
       "\u001b[33m        This is automatically called when this class is used as a context\u001b[39m\n",
       "\u001b[33m        manager.\u001b[39m\n",
       "\u001b[33m        '''\u001b[39m\n",
       "        self.sync_timeout = \u001b[38;5;28;01mNone\u001b[39;00m\n",
       "        \u001b[38;5;28;01mif\u001b[39;00m self._fd \u001b[38;5;28;01mis\u001b[39;00m \u001b[38;5;28;01mnot\u001b[39;00m \u001b[38;5;28;01mNone\u001b[39;00m:\n",
       "            self._epoll.close()\n",
       "            os.close(self._fd)\n",
       "            self._fd = \u001b[38;5;28;01mNone\u001b[39;00m\n",
       "\n",
       "    @property\n",
       "    \u001b[38;5;28;01mdef\u001b[39;00m cache_size(self) -> int:\n",
       "        \u001b[33m'''The maximum number of full-sized events (events with a NAME_MAX-length name) to store.\u001b[39m\n",
       "\n",
       "\u001b[33m        More events may be stored, because very few events should use a NAME_MAX length name.'''\u001b[39m\n",
       "        \u001b[38;5;28;01mreturn\u001b[39;00m self._cache_size\n",
       "\n",
       "    @cache_size.setter\n",
       "    \u001b[38;5;28;01mdef\u001b[39;00m cache_size(self, value: int) -> \u001b[38;5;28;01mNone\u001b[39;00m:\n",
       "        self._cache_size = int(value)\n",
       "\n",
       "    \u001b[38;5;28;01mdef\u001b[39;00m _get(self, future: Union[Future, _FakeFuture]) -> \u001b[38;5;28;01mNone\u001b[39;00m:\n",
       "        \u001b[33m'''Retrieve an array of events into an array, which is set on the passed-in future.'''\u001b[39m\n",
       "\n",
       "        buffer = BytesIO(os.read(self.fd, (_ffi.inotify_event_size + _ffi.NAME_MAX + \u001b[32m1\u001b[39m) * self._cache_size))\n",
       "        events = []\n",
       "        \u001b[38;5;28;01mwhile\u001b[39;00m \u001b[38;5;28;01mTrue\u001b[39;00m:\n",
       "            event_buffer = buffer.read(_ffi.inotify_event_size)\n",
       "            \u001b[38;5;28;01mif\u001b[39;00m \u001b[38;5;28;01mnot\u001b[39;00m event_buffer:\n",
       "                \u001b[38;5;28;01mbreak\u001b[39;00m\n",
       "            event_struct = _ffi.inotify_event.from_buffer_copy(event_buffer)\n",
       "            length = event_struct.len\n",
       "            name = \u001b[38;5;28;01mNone\u001b[39;00m\n",
       "\n",
       "            \u001b[38;5;28;01mif\u001b[39;00m length > \u001b[32m0\u001b[39m:\n",
       "                raw_name = buffer.read(length)\n",
       "                zero_pos = raw_name.find(\u001b[32m0\u001b[39m)\n",
       "                \u001b[38;5;66;03m# If zero_pos is 0, we want name to stay None\u001b[39;00m\n",
       "                \u001b[38;5;28;01mif\u001b[39;00m zero_pos != \u001b[32m0\u001b[39m:\n",
       "                    \u001b[38;5;66;03m# If zero_pos is -1, we want the whole name string, otherwise truncate the zeros\u001b[39;00m\n",
       "                    \u001b[38;5;28;01mif\u001b[39;00m zero_pos > \u001b[32m0\u001b[39m:\n",
       "                        raw_name = raw_name[:zero_pos]\n",
       "                    name = Path(os.fsdecode(raw_name))\n",
       "            mask = Mask(event_struct.mask)\n",
       "\n",
       "            watch: Optional[Union[Watch, ReferenceType]] = self._watches.get(event_struct.wd, \u001b[38;5;28;01mNone\u001b[39;00m)\n",
       "\n",
       "            \u001b[38;5;28;01mif\u001b[39;00m isinstance(watch, Watch):\n",
       "                \u001b[38;5;28;01mif\u001b[39;00m Mask.IGNORED \u001b[38;5;28;01min\u001b[39;00m mask \u001b[38;5;28;01mor\u001b[39;00m Mask.ONESHOT \u001b[38;5;28;01min\u001b[39;00m watch.mask:\n",
       "                    \u001b[38;5;66;03m# If IGNORED or ONESHOT, the event takes ownership of this watch\u001b[39;00m\n",
       "                    \u001b[38;5;28;01mdel\u001b[39;00m self._watches[event_struct.wd]\n",
       "                \u001b[38;5;28;01melif\u001b[39;00m watch \u001b[38;5;28;01mis\u001b[39;00m \u001b[38;5;28;01mnot\u001b[39;00m \u001b[38;5;28;01mNone\u001b[39;00m:\n",
       "                    \u001b[38;5;66;03m# Otherwise, Initify retains ownership and a weak reference is created\u001b[39;00m\n",
       "                    watch = weakref.ref(watch)\n",
       "\n",
       "            event = Event(\n",
       "                watch=watch,\n",
       "                mask=mask,\n",
       "                cookie=event_struct.cookie,\n",
       "                name=name,\n",
       "            )\n",
       "            events.append(event)\n",
       "\n",
       "        \u001b[38;5;28;01mif\u001b[39;00m \u001b[38;5;28;01mnot\u001b[39;00m future.cancelled():\n",
       "            future.set_result(events)\n",
       "\n",
       "    \u001b[38;5;28;01masync\u001b[39;00m \u001b[38;5;28;01mdef\u001b[39;00m get(self) -> Event:\n",
       "        \u001b[33m'''Get a single next event.\u001b[39m\n",
       "\n",
       "\u001b[33m        This is the core method of event retrieval.  Asynchronously iterating\u001b[39m\n",
       "\u001b[33m        this class simply calls this method forever.\u001b[39m\n",
       "\n",
       "\u001b[33m        May actually pull multiple events from the inotify handle, and store\u001b[39m\n",
       "\u001b[33m        extras internally.  Will always only return one.\u001b[39m\n",
       "\n",
       "\u001b[33m        Building some events may cause changes in the associated\u001b[39m\n",
       "\u001b[33m        :class:`Inotify` or :class:`Watch` instances.  For instance,\u001b[39m\n",
       "\u001b[33m        :attr:`Mask.IGNORE` will automatically remove its :class:`Watch`\u001b[39m\n",
       "\u001b[33m        instance from this :class:`Inotify` object.  A :attr:`Mask.ONESHOT`\u001b[39m\n",
       "\u001b[33m        Watch will remove itself on the first event.\u001b[39m\n",
       "\n",
       "\u001b[33m        .. caution::\u001b[39m\n",
       "\n",
       "\u001b[33m            A watched path being moved will cause the relevant\u001b[39m\n",
       "\u001b[33m            :meth:`Watch.path` to be incorrect.  This library will not\u001b[39m\n",
       "\u001b[33m            automatically update it for you, because :attr:`Mask.MOVE_SELF`\u001b[39m\n",
       "\u001b[33m            does not tell you the new name.  You would have to watch the parent\u001b[39m\n",
       "\u001b[33m            directory and change the :meth:`Watch.path` value yourself if you\u001b[39m\n",
       "\u001b[33m            want that functionality.\u001b[39m\n",
       "\n",
       "\u001b[33m            If you don't do this and the watch path is moved, the\u001b[39m\n",
       "\u001b[33m            :class:`Event` will have a correct name but incorrect path.\u001b[39m\n",
       "\n",
       "\u001b[33m        :returns: a single :class:`Event`\u001b[39m\n",
       "\u001b[33m        '''\u001b[39m\n",
       "        \u001b[38;5;28;01mif\u001b[39;00m \u001b[38;5;28;01mnot\u001b[39;00m self._events:\n",
       "            \u001b[38;5;28;01mwith\u001b[39;00m _get_events_future(self.fd, self._get) \u001b[38;5;28;01mas\u001b[39;00m future:\n",
       "                self._events = \u001b[38;5;28;01mawait\u001b[39;00m future\n",
       "        \u001b[38;5;28;01mreturn\u001b[39;00m self._events.pop(\u001b[32m0\u001b[39m)\n",
       "\n",
       "    \u001b[38;5;28;01mdef\u001b[39;00m sync_get(self) -> Optional[Event]:\n",
       "        \u001b[33m'''Get a single next event synchronously, or throw a blocking error if\u001b[39m\n",
       "\u001b[33m        you've opened this in nonblocking mode.\u001b[39m\n",
       "\n",
       "\u001b[33m        All concerns that apply to :meth:`get` also apply to this method.\u001b[39m\n",
       "\n",
       "\u001b[33m        :returns: a single :class:`Event`, or None if sync_timeout is not None and the poll timed out.\u001b[39m\n",
       "\u001b[33m        '''\u001b[39m\n",
       "        \u001b[38;5;28;01mif\u001b[39;00m \u001b[38;5;28;01mnot\u001b[39;00m self._events:\n",
       "            \u001b[38;5;28;01mif\u001b[39;00m self.sync_timeout \u001b[38;5;28;01mis\u001b[39;00m \u001b[38;5;28;01mnot\u001b[39;00m \u001b[38;5;28;01mNone\u001b[39;00m:\n",
       "                \u001b[38;5;28;01mif\u001b[39;00m \u001b[38;5;28;01mnot\u001b[39;00m self._epoll.poll(self.sync_timeout, \u001b[32m1\u001b[39m):\n",
       "                    \u001b[38;5;28;01mreturn\u001b[39;00m \u001b[38;5;28;01mNone\u001b[39;00m\n",
       "            future = _FakeFuture()\n",
       "            self._get(future)\n",
       "            self._events = future.result\n",
       "        \u001b[38;5;28;01mreturn\u001b[39;00m self._events.pop(\u001b[32m0\u001b[39m)\n",
       "\n",
       "    \u001b[38;5;28;01mdef\u001b[39;00m __aiter__(self) -> \u001b[33m'Inotify'\u001b[39m:\n",
       "        \u001b[38;5;28;01mreturn\u001b[39;00m self\n",
       "\n",
       "    \u001b[38;5;28;01mdef\u001b[39;00m __iter__(self) -> \u001b[33m'Inotify'\u001b[39m:\n",
       "        \u001b[38;5;28;01mreturn\u001b[39;00m self\n",
       "\n",
       "    \u001b[38;5;28;01masync\u001b[39;00m \u001b[38;5;28;01mdef\u001b[39;00m __anext__(self) -> Event:\n",
       "        \u001b[33m'''Iterate inotify events forever with :meth:`get`.'''\u001b[39m\n",
       "        \u001b[38;5;28;01mreturn\u001b[39;00m \u001b[38;5;28;01mawait\u001b[39;00m self.get()\n",
       "\n",
       "    \u001b[38;5;28;01mdef\u001b[39;00m __next__(self) -> Event:\n",
       "        \u001b[33m'''Iterate inotify events with :meth:`sync_get`.\u001b[39m\n",
       "\n",
       "\u001b[33m        If sync_timeout is None or -1, this will iterate forever, otherwise it iterates until a timeout is reached.\u001b[39m\n",
       "\u001b[33m        '''\u001b[39m\n",
       "        event = self.sync_get()\n",
       "        \u001b[38;5;28;01mif\u001b[39;00m event \u001b[38;5;28;01mis\u001b[39;00m \u001b[38;5;28;01mNone\u001b[39;00m:\n",
       "            \u001b[38;5;28;01mraise\u001b[39;00m StopIteration\n",
       "        \u001b[38;5;28;01mreturn\u001b[39;00m event\n",
       "\u001b[31mFile:\u001b[39m           ~/python/venv/lib/python3.12/site-packages/asyncinotify/__init__.py\n",
       "\u001b[31mType:\u001b[39m           type\n",
       "\u001b[31mSubclasses:\u001b[39m     "
      ]
     },
     "metadata": {},
     "output_type": "display_data"
    }
   ],
   "source": [
    "Inotify??"
   ]
  },
  {
   "cell_type": "code",
   "execution_count": null,
   "id": "4b55992b-68c9-4166-ac5a-7c5e2d6409e0",
   "metadata": {},
   "outputs": [],
   "source": [
    "#| export\n",
    "async def watch_recursive(path: Path, sync_timeout=None) -> AsyncGenerator[Event, None]:\n",
    "    mask = Mask.CREATE | Mask.MODIFY\n",
    "    with Inotify(sync_timeout=sync_timeout) as inotify:\n",
    "        for directory in get_directories_recursive(path):\n",
    "            inotify.add_watch(directory, mask)\n",
    "        async for event in inotify:\n",
    "            if Mask.CREATE in event.mask and event.path is not None and event.path.is_dir():\n",
    "                for directory in get_directories_recursive(event.path):\n",
    "                    #print(f'EVENT: watching {directory}')\n",
    "                    inotify.add_watch(directory, mask)\n",
    "\n",
    "            if event.mask & mask:\n",
    "                yield event"
   ]
  },
  {
   "cell_type": "code",
   "execution_count": null,
   "id": "8410b78f-129d-4a4d-9f97-e8c0705d5b00",
   "metadata": {},
   "outputs": [],
   "source": [
    "#| export\n",
    "async def debounce(events: AsyncGenerator[Event, None], # event generator\n",
    "                   debounce_interval = 0.5 # in seconds\n",
    "                  ) -> AsyncGenerator[Event, None]:\n",
    "    combined_event = []\n",
    "    last_event_time = None\n",
    "\n",
    "    async for event in events:\n",
    "        current_time = time.time()\n",
    "\n",
    "        if last_event_time is None or (current_time - last_event_time) <= debounce_interval:\n",
    "            combined_event.append(event)\n",
    "        else:\n",
    "            if combined_event:\n",
    "                yield combined_event\n",
    "                combined_event = [event]\n",
    "        last_event_time = current_time\n",
    "\n",
    "    print(\"This will never run for inotify\")\n",
    "    if combined_event:\n",
    "        yield combined_event"
   ]
  },
  {
   "cell_type": "code",
   "execution_count": null,
   "id": "cc433aba-520d-4c37-91c2-3b0c083b54ac",
   "metadata": {},
   "outputs": [],
   "source": [
    "async def event_generator():\n",
    "    await asyncio.sleep(0.25)\n",
    "    yield 1\n",
    "    await asyncio.sleep(0.25)\n",
    "    yield 2\n",
    "    await asyncio.sleep(0.25)\n",
    "    yield 3\n",
    "    await asyncio.sleep(0.25)\n",
    "    yield 4\n",
    "    await asyncio.sleep(0.25)\n",
    "    yield 5\n",
    "    await asyncio.sleep(0.25)\n",
    "    yield 6\n",
    "    await asyncio.sleep(0.5)\n",
    "    yield 7"
   ]
  },
  {
   "cell_type": "code",
   "execution_count": null,
   "id": "cd70029f-0df5-4cbe-bcf1-7bfbc1c8ebbf",
   "metadata": {},
   "outputs": [],
   "source": [
    "aloop = asyncio.get_event_loop()"
   ]
  },
  {
   "cell_type": "code",
   "execution_count": null,
   "id": "8a9c97af-f2b9-49fe-a205-b881ecaec032",
   "metadata": {},
   "outputs": [],
   "source": [
    "async def run_loop(event_gen):\n",
    "    async for e in event_gen:\n",
    "        print(e)"
   ]
  },
  {
   "cell_type": "code",
   "execution_count": null,
   "id": "450e3ee5-f031-4fce-976c-f7a10bdd38e8",
   "metadata": {},
   "outputs": [
    {
     "data": {
      "text/plain": [
       "<Task pending name='Task-5' coro=<run_loop() running at /tmp/ipykernel_899807/2799408329.py:1>>"
      ]
     },
     "execution_count": null,
     "metadata": {},
     "output_type": "execute_result"
    },
    {
     "name": "stdout",
     "output_type": "stream",
     "text": [
      "1\n",
      "2\n",
      "3\n",
      "4\n",
      "5\n",
      "6\n",
      "7\n"
     ]
    }
   ],
   "source": [
    "aloop.create_task(run_loop(event_generator()))"
   ]
  },
  {
   "cell_type": "code",
   "execution_count": null,
   "id": "f4bdbfba-1180-4392-ac14-7e50dc3367c7",
   "metadata": {},
   "outputs": [
    {
     "data": {
      "text/plain": [
       "<Task pending name='Task-6' coro=<run_loop() running at /tmp/ipykernel_899807/2799408329.py:1>>"
      ]
     },
     "execution_count": null,
     "metadata": {},
     "output_type": "execute_result"
    },
    {
     "name": "stdout",
     "output_type": "stream",
     "text": [
      "[1, 2, 3, 4, 5, 6]\n",
      "This will never run for inotify\n",
      "[7]\n"
     ]
    }
   ],
   "source": [
    "aloop.create_task(run_loop(debounce(event_generator())))"
   ]
  },
  {
   "cell_type": "code",
   "execution_count": null,
   "id": "044af812-183a-4d40-a77f-35ca9ff58c81",
   "metadata": {},
   "outputs": [],
   "source": [
    "#| export\n",
    "async def inotify_debounce(path, debounce_interval=1):\n",
    "    print(\"inotify_debounce\")\n",
    "    combined_event = []\n",
    "    last_event_time = None\n",
    "\n",
    "    while True:\n",
    "        # NOTE: this is not busy waiting because watch_recursive acts as a sleep function\n",
    "        # This process only wakes up either every debounce interval or when directory events happen\n",
    "        async for event in watch_recursive(path, debounce_interval):\n",
    "            print(event)\n",
    "            current_time = time.time()\n",
    "    \n",
    "            if last_event_time is None or (current_time - last_event_time) <= debounce_interval:\n",
    "                combined_event.append(event)\n",
    "            else:\n",
    "                if combined_event:\n",
    "                    yield combined_event\n",
    "                    combined_event = [event]\n",
    "            last_event_time = current_time\n",
    "    \n",
    "        print(\"This will never run for inotify\")\n",
    "        if combined_event:\n",
    "            yield combined_event"
   ]
  },
  {
   "cell_type": "code",
   "execution_count": null,
   "id": "ae18d2fc-5552-433f-96d0-d4621189f5df",
   "metadata": {},
   "outputs": [],
   "source": [
    "#| export\n",
    "async def nbd_watch_async():\n",
    "    #async for el in debounce(watch_recursive(Path('nbs')), 1):\n",
    "    async for el in inotify_debounce(Path('nbs')):\n",
    "        print(f\"[{datetime.now()}] {el[0].path}\")\n",
    "        subprocess.run([\"nbdev_export\"])"
   ]
  },
  {
   "cell_type": "code",
   "execution_count": null,
   "id": "e6c691a4-9c46-45ec-82d0-e952e662418a",
   "metadata": {},
   "outputs": [],
   "source": [
    "#| export\n",
    "def nbd_watch():\n",
    "    \"Watch `nbs` folder and automatically run `nbdev_export` on file change\"\n",
    "    asyncio.run(nbd_watch_async())"
   ]
  },
  {
   "cell_type": "code",
   "execution_count": null,
   "id": "c8f0df35-7697-44ae-b9d5-248dd05815c3",
   "metadata": {},
   "outputs": [],
   "source": [
    "#| hide\n",
    "import nbdev; nbdev.nbdev_export()"
   ]
  },
  {
   "cell_type": "code",
   "execution_count": null,
   "id": "959d3568-d585-406a-a291-2a0737dad069",
   "metadata": {},
   "outputs": [],
   "source": []
  }
 ],
 "metadata": {
  "kernelspec": {
   "display_name": "python3",
   "language": "python",
   "name": "python3"
  }
 },
 "nbformat": 4,
 "nbformat_minor": 5
}
