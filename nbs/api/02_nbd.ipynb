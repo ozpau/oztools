{
 "cells": [
  {
   "cell_type": "markdown",
   "id": "9c8cf725-f4c7-4bd1-ab7f-c523a908ac4a",
   "metadata": {},
   "source": [
    "# nbd\n",
    "\n",
    "> Extra command line utilities for nbdev"
   ]
  },
  {
   "cell_type": "code",
   "execution_count": null,
   "id": "2eb94c62-53b2-49a8-94db-f6619642c2b7",
   "metadata": {},
   "outputs": [],
   "source": [
    "#| default_exp nbd"
   ]
  },
  {
   "cell_type": "code",
   "execution_count": null,
   "id": "06942082-f99c-4350-95cd-27aa67151481",
   "metadata": {},
   "outputs": [],
   "source": [
    "#| hide\n",
    "from nbdev.showdoc import *"
   ]
  },
  {
   "cell_type": "code",
   "execution_count": null,
   "id": "003c1693-ec99-4421-958d-3f9ab3404ac3",
   "metadata": {},
   "outputs": [],
   "source": [
    "#| export\n",
    "from fastcore.all import *\n",
    "import itertools as it\n",
    "import os\n",
    "from ghapi.all import *\n",
    "\n",
    "import configparser\n",
    "from pathlib import Path\n",
    "\n",
    "from oztools.core import *\n",
    "from oztools.gh import *\n",
    "\n",
    "import subprocess\n",
    "\n",
    "import json\n",
    "\n",
    "from glob import glob\n",
    "import re"
   ]
  },
  {
   "cell_type": "code",
   "execution_count": null,
   "id": "ad5c6501-4895-41fb-a0ca-d7b8b762338b",
   "metadata": {},
   "outputs": [],
   "source": [
    "#| export\n",
    "@call_parse\n",
    "def nbd_new(name:str, description:str, license:str=\"Apache-2.0\", private:bool=False):\n",
    "    \"Create a new nbdev project and setup github repo for it\"\n",
    "    gh_repo, local_repo = gh_new_repo_fn(name, description, license, private)\n",
    "    os.chdir(gh_repo.name)\n",
    "    subprocess.run([\"nbdev_new\"])\n",
    "    subprocess.run([\"nbdev_install_hooks\"])\n",
    "    subprocess.run([\"nbdev_prepare\"])\n",
    "    subprocess.run([\"nbdev_clean\"])\n",
    "    commit_and_push(local_repo, \"Initial commit\")\n",
    "    setup_pages(local_repo, gh_repo.name)"
   ]
  },
  {
   "cell_type": "code",
   "execution_count": null,
   "id": "c67c8a71-7063-4ded-a91c-79de650812dd",
   "metadata": {},
   "outputs": [],
   "source": [
    "#| export\n",
    "\n",
    "def new_notebook_template(name, description):\n",
    "    template = {\n",
    "        'cells': [\n",
    "            {'cell_type': 'markdown', 'metadata': {},\n",
    "             'source': [\n",
    "                    f'# {name}\\n',\n",
    "                    '\\n',\n",
    "                    f'> {description}'\n",
    "                ]},\n",
    "            {'cell_type': 'code', 'execution_count': None, 'metadata': {}, 'outputs': [],\n",
    "             'source': [f'#| default_exp {name}']},\n",
    "            {'cell_type': 'code', 'execution_count': None, 'metadata': {}, 'outputs': [],\n",
    "             'source': [\n",
    "                 '#| hide\\n',\n",
    "                 'from nbdev.showdoc import *'\n",
    "             ]},\n",
    "            {'cell_type': 'code', 'execution_count': None, 'metadata': {}, 'outputs': [],\n",
    "             'source': [\n",
    "                 '#| export\\n',\n",
    "                 'from fastcore.all import *'\n",
    "             ]},\n",
    "            {'cell_type': 'code', 'execution_count': None, 'metadata': {}, 'outputs': [],\n",
    "             'source': [\n",
    "                 '#| hide\\n',\n",
    "                 'import nbdev; nbdev.nbdev_e'+'xport()' # nbdev_e**ort is a forbidden word\n",
    "             ]},\n",
    "      ], 'metadata': { 'kernelspec': { 'display_name': 'python3', 'language': 'python', 'name': 'python3' } }, 'nbformat': 4, 'nbformat_minor': 4\n",
    "    }\n",
    "    return template"
   ]
  },
  {
   "cell_type": "markdown",
   "id": "3c306b1c-1e7a-4230-a479-d06d544a150e",
   "metadata": {},
   "source": [
    "FIXME: Cell below results in an error for some reason"
   ]
  },
  {
   "cell_type": "code",
   "execution_count": null,
   "id": "9712d1d9-5527-4aab-92b6-ad396ac75040",
   "metadata": {},
   "outputs": [
    {
     "name": "stdout",
     "output_type": "stream",
     "text": [
      "# foo\n",
      "\n",
      "> Makes foo using bar\n",
      "---\n",
      "\n",
      "#| default_exp foo\n",
      "---\n",
      "\n",
      "#| hide\n",
      "from nbdev.showdoc import *\n",
      "---\n",
      "\n",
      "#| export\n",
      "from fastcore.all import *\n",
      "---\n",
      "\n",
      "#| hide\n",
      "import nbdev; nbdev.nbdev_export()\n"
     ]
    }
   ],
   "source": [
    "template = new_notebook_template(\"foo\", \"Makes foo using bar\")\n",
    "print('\\n---\\n\\n'.join(L(template['cells']).attrgot('source').map(''.join)))"
   ]
  },
  {
   "cell_type": "code",
   "execution_count": null,
   "id": "1485e5ff-357f-45dd-809f-3773746bcef9",
   "metadata": {},
   "outputs": [
    {
     "data": {
      "text/plain": [
       "'99'"
      ]
     },
     "execution_count": null,
     "metadata": {},
     "output_type": "execute_result"
    }
   ],
   "source": [
    "m = re.match(r'(\\d+).*\\.ipynb', '99ab_asd.ipynb')\n",
    "m.group(1)"
   ]
  },
  {
   "cell_type": "code",
   "execution_count": null,
   "id": "68bf4776-a783-4e60-96f2-bcc1cd957a3d",
   "metadata": {},
   "outputs": [],
   "source": [
    "#| export\n",
    "def zero_pad(num):\n",
    "    num = str(num)\n",
    "    return num if len(num) > 1 else f\"0{num}\""
   ]
  },
  {
   "cell_type": "code",
   "execution_count": null,
   "id": "d9c42758-dd9b-468d-bf26-473b857b3801",
   "metadata": {},
   "outputs": [],
   "source": [
    "test_eq(zero_pad(9), '09')\n",
    "test_eq(zero_pad(32), '32')"
   ]
  },
  {
   "cell_type": "code",
   "execution_count": null,
   "id": "e23566e9-514b-4ce8-8b74-ad509feae791",
   "metadata": {},
   "outputs": [],
   "source": [
    "#| export\n",
    "@call_parse\n",
    "def nbd_add(name:str, description:str,\n",
    "            at:Optional[int] = None # If specified, insert new notebook at a specific position\n",
    "           ):\n",
    "    \"Add new notebook to the project\"\n",
    "\n",
    "    prev_nbs = L(glob(\"[0-9]*?*.ipynb\"))\n",
    "    prev_ids = prev_nbs.map(lambda x: int(re.match(r'(\\d+).*\\.ipynb', x).group(1)))\n",
    "    prev_id = max(prev_ids)\n",
    "\n",
    "    new_id = prev_id + 1\n",
    "    new_id = zero_pad(new_id)\n",
    "    template = get_new_notebook_template(name, description)\n",
    "\n",
    "    with open(f\"{new_id}_{name}.ipynb\", 'w') as f:\n",
    "        json.dump(template, f)"
   ]
  },
  {
   "cell_type": "code",
   "execution_count": null,
   "id": "c8f0df35-7697-44ae-b9d5-248dd05815c3",
   "metadata": {},
   "outputs": [],
   "source": [
    "#| hide\n",
    "import nbdev; nbdev.nbdev_export()"
   ]
  },
  {
   "cell_type": "code",
   "execution_count": null,
   "id": "5689e33c-43d8-43dd-b845-66fa1825192d",
   "metadata": {},
   "outputs": [],
   "source": []
  }
 ],
 "metadata": {
  "kernelspec": {
   "display_name": "python3",
   "language": "python",
   "name": "python3"
  }
 },
 "nbformat": 4,
 "nbformat_minor": 5
}
