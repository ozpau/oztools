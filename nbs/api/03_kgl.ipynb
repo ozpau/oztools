{
 "cells": [
  {
   "cell_type": "markdown",
   "metadata": {},
   "source": [
    "# kgl\n",
    "\n",
    "> Command line utilities for kaggle competitions"
   ]
  },
  {
   "cell_type": "code",
   "execution_count": null,
   "metadata": {},
   "outputs": [],
   "source": [
    "#| default_exp kgl"
   ]
  },
  {
   "cell_type": "code",
   "execution_count": null,
   "metadata": {},
   "outputs": [],
   "source": [
    "#| hide\n",
    "from nbdev.showdoc import *"
   ]
  },
  {
   "cell_type": "code",
   "execution_count": null,
   "metadata": {},
   "outputs": [],
   "source": [
    "#| export\n",
    "from fastcore.all import *\n",
    "from fastkaggle import *\n",
    "import itertools as it\n",
    "\n",
    "from oztools.core import *\n",
    "from oztools.nbd import *"
   ]
  },
  {
   "cell_type": "markdown",
   "metadata": {},
   "source": [
    "This module requires kaggle API token in order to work.\n",
    "See [here](https://github.com/Kaggle/kaggle-api/blob/main/docs/README.md#api-credentials) for info\n",
    "on how to setup that."
   ]
  },
  {
   "cell_type": "markdown",
   "metadata": {},
   "source": [
    "## Competition utils"
   ]
  },
  {
   "cell_type": "markdown",
   "metadata": {},
   "source": [
    "Modified version of `setup_comp` from `fastkaggle`.\n",
    "I like to put my data into `data` folders so it's easier to mask them in version control."
   ]
  },
  {
   "cell_type": "code",
   "execution_count": null,
   "metadata": {},
   "outputs": [],
   "source": [
    "#|export\n",
    "def setup_comp(competition, install=''):\n",
    "    \"Get a path to data for `competition`, downloading it if needed\"\n",
    "    if iskaggle:\n",
    "        if install:\n",
    "            os.system(f'pip install -Uqq {install}')\n",
    "        return Path('../input')/competition\n",
    "    else:\n",
    "        path = Path('./var')/competition\n",
    "        api = import_kaggle()\n",
    "        if not path.exists():\n",
    "            import zipfile\n",
    "            api.competition_download_cli(str(competition), path='./var')\n",
    "            zipfile.ZipFile(f'./var/{competition}.zip').extractall(path)\n",
    "        return path"
   ]
  },
  {
   "cell_type": "markdown",
   "metadata": {},
   "source": [
    "## Setup competition projects"
   ]
  },
  {
   "cell_type": "code",
   "execution_count": null,
   "metadata": {},
   "outputs": [
    {
     "data": {
      "text/plain": [
       "('AI Mathematical Olympiad - Progress Prize 2',\n",
       " 'ai-mathematical-olympiad-progress-prize-2')"
      ]
     },
     "execution_count": null,
     "metadata": {},
     "output_type": "execute_result"
    }
   ],
   "source": [
    "api = import_kaggle()\n",
    "comps = api.competitions_list()\n",
    "comp = comps[0]\n",
    "comp.title, comp.url.split(\"/\")[-1]"
   ]
  },
  {
   "cell_type": "code",
   "execution_count": null,
   "metadata": {},
   "outputs": [
    {
     "data": {
      "text/plain": [
       "37"
      ]
     },
     "execution_count": null,
     "metadata": {},
     "output_type": "execute_result"
    }
   ],
   "source": [
    "len(\"equity-post-HCT-survival-prediction  \")"
   ]
  },
  {
   "cell_type": "code",
   "execution_count": null,
   "metadata": {},
   "outputs": [],
   "source": [
    "#| export\n",
    "def disp_comp(comp):\n",
    "    slug = comp.url.split(\"/\")[-1]\n",
    "    return f\"{pad(slug[:40],40)} {comp.title[:40]}\""
   ]
  },
  {
   "cell_type": "code",
   "execution_count": null,
   "metadata": {},
   "outputs": [],
   "source": [
    "joinedkey = attrkey(\"userHasEntered\")"
   ]
  },
  {
   "cell_type": "code",
   "execution_count": null,
   "metadata": {},
   "outputs": [],
   "source": [
    "comps.sort(key=joinedkey)\n",
    "active, entered = (list(y) for x,y in it.groupby(comps, lambda x: x.userHasEntered))"
   ]
  },
  {
   "cell_type": "code",
   "execution_count": null,
   "metadata": {},
   "outputs": [],
   "source": [
    "#| export\n",
    "def get_competitions():\n",
    "    api = import_kaggle()\n",
    "    comps = api.competitions_list()\n",
    "    \n",
    "    joinedkey = attrkey(\"userHasEntered\")\n",
    "    comps.sort(key=joinedkey)\n",
    "    active, entered = (list(y) for x,y in it.groupby(comps, joinedkey))\n",
    "    return active, entered"
   ]
  },
  {
   "cell_type": "code",
   "execution_count": null,
   "metadata": {},
   "outputs": [
    {
     "data": {
      "text/plain": [
       "([https://www.kaggle.com/competitions/ai-mathematical-olympiad-progress-prize-2,\n",
       "  https://www.kaggle.com/competitions/konwinski-prize,\n",
       "  https://www.kaggle.com/competitions/llms-you-cant-please-them-all,\n",
       "  https://www.kaggle.com/competitions/fide-google-efficiency-chess-ai-challenge,\n",
       "  https://www.kaggle.com/competitions/lux-ai-season-3,\n",
       "  https://www.kaggle.com/competitions/titanic,\n",
       "  https://www.kaggle.com/competitions/home-data-for-ml-course,\n",
       "  https://www.kaggle.com/competitions/house-prices-advanced-regression-techniques,\n",
       "  https://www.kaggle.com/competitions/spaceship-titanic,\n",
       "  https://www.kaggle.com/competitions/digit-recognizer,\n",
       "  https://www.kaggle.com/competitions/nlp-getting-started,\n",
       "  https://www.kaggle.com/competitions/connectx,\n",
       "  https://www.kaggle.com/competitions/gan-getting-started,\n",
       "  https://www.kaggle.com/competitions/llm-classification-finetuning,\n",
       "  https://www.kaggle.com/competitions/tpu-getting-started,\n",
       "  https://www.kaggle.com/competitions/contradictory-my-dear-watson],\n",
       " [https://www.kaggle.com/competitions/equity-post-HCT-survival-predictions,\n",
       "  https://www.kaggle.com/competitions/playground-series-s5e2,\n",
       "  https://www.kaggle.com/competitions/store-sales-time-series-forecasting,\n",
       "  https://www.kaggle.com/competitions/jane-street-real-time-market-data-forecasting])"
      ]
     },
     "execution_count": null,
     "metadata": {},
     "output_type": "execute_result"
    }
   ],
   "source": [
    "get_competitions()"
   ]
  },
  {
   "cell_type": "code",
   "execution_count": null,
   "metadata": {},
   "outputs": [],
   "source": [
    "#| export\n",
    "@call_parse\n",
    "def kgl_list():\n",
    "    \"List kaggle competitions\"\n",
    "\n",
    "    active, entered = get_competitions()\n",
    "\n",
    "    return '\\n'.join((\"Joined:\", *str_enumerate(map(disp_comp, entered), 1),\n",
    "                      \"Active:\", *str_enumerate(map(disp_comp, active), 1+len(entered))))"
   ]
  },
  {
   "cell_type": "code",
   "execution_count": null,
   "metadata": {},
   "outputs": [
    {
     "name": "stdout",
     "output_type": "stream",
     "text": [
      "Joined:\n",
      "  1   equity-post-HCT-survival-predictions     CIBMTR - Equity in post-HCT Survival Pre\n",
      "  2   playground-series-s5e2                   Backpack Prediction Challenge\n",
      "  3   store-sales-time-series-forecasting      Store Sales - Time Series Forecasting\n",
      "  4   jane-street-real-time-market-data-foreca Jane Street Real-Time Market Data Foreca\n",
      "Active:\n",
      "  5   ai-mathematical-olympiad-progress-prize- AI Mathematical Olympiad - Progress Priz\n",
      "  6   konwinski-prize                          Konwinski Prize\n",
      "  7   llms-you-cant-please-them-all            LLMs - You Can't Please Them All\n",
      "  8   fide-google-efficiency-chess-ai-challeng FIDE & Google Efficient Chess AI Challen\n",
      "  9   lux-ai-season-3                          NeurIPS 2024 - Lux AI Season 3\n",
      "  10  titanic                                  Titanic - Machine Learning from Disaster\n",
      "  11  home-data-for-ml-course                  Housing Prices Competition for Kaggle Le\n",
      "  12  house-prices-advanced-regression-techniq House Prices - Advanced Regression Techn\n",
      "  13  spaceship-titanic                        Spaceship Titanic\n",
      "  14  digit-recognizer                         Digit Recognizer\n",
      "  15  nlp-getting-started                      Natural Language Processing with Disaste\n",
      "  16  connectx                                 Connect X\n",
      "  17  gan-getting-started                      I’m Something of a Painter Myself\n",
      "  18  llm-classification-finetuning            LLM Classification Finetuning\n",
      "  19  tpu-getting-started                      Petals to the Metal - Flower Classificat\n",
      "  20  contradictory-my-dear-watson             Contradictory, My Dear Watson\n"
     ]
    }
   ],
   "source": [
    "print(kgl_list())"
   ]
  },
  {
   "cell_type": "code",
   "execution_count": null,
   "metadata": {},
   "outputs": [],
   "source": [
    "#| export\n",
    "def maybe_int(x: str):\n",
    "    try:\n",
    "        return int(x)\n",
    "    except ValueError:\n",
    "        return x"
   ]
  },
  {
   "cell_type": "code",
   "execution_count": null,
   "metadata": {},
   "outputs": [],
   "source": [
    "comp = comps[0]"
   ]
  },
  {
   "cell_type": "code",
   "execution_count": null,
   "metadata": {},
   "outputs": [
    {
     "data": {
      "text/plain": [
       "'https://www.kaggle.com/competitions/ai-mathematical-olympiad-progress-prize-2'"
      ]
     },
     "execution_count": null,
     "metadata": {},
     "output_type": "execute_result"
    }
   ],
   "source": [
    "comp.url"
   ]
  },
  {
   "cell_type": "code",
   "execution_count": null,
   "metadata": {},
   "outputs": [
    {
     "data": {
      "text/plain": [
       "'AI Mathematical Olympiad - Progress Prize 2'"
      ]
     },
     "execution_count": null,
     "metadata": {},
     "output_type": "execute_result"
    }
   ],
   "source": [
    "comp.title"
   ]
  },
  {
   "cell_type": "code",
   "execution_count": null,
   "metadata": {},
   "outputs": [],
   "source": [
    "#| export\n",
    "def get_competition(n: str):\n",
    "    active, entered = get_competitions()\n",
    "    comps = entered + active\n",
    "\n",
    "    try:\n",
    "        try: return comps[int(n)-1]\n",
    "        except ValueError: return L(comps).filter(lambda x: n in x.url.split(\"/\")[-1])[0]\n",
    "    except IndexError:\n",
    "        warn(\"Couldn't find competition\")\n",
    "        return"
   ]
  },
  {
   "cell_type": "code",
   "execution_count": null,
   "metadata": {},
   "outputs": [],
   "source": [
    "#| export\n",
    "@call_parse\n",
    "def kgl_new(n: str, # competition id or name\n",
    "            save_to: str # project name to use locally and for github\n",
    "            ):\n",
    "    \"Setup nbdev environment for a kaggle competition\"\n",
    "    comp = get_competition(n)\n",
    "    if not comp:\n",
    "        return\n",
    "\n",
    "    save_to = \"kaggle_\" + save_to\n",
    "    \n",
    "    print(f'Loading competition \"{comp.title}\" into \"{save_to}\"')\n",
    "    nbd_new_fn(save_to, f'Code for [{comp.title}]({comp.url}) Kaggle competition')"
   ]
  },
  {
   "cell_type": "markdown",
   "metadata": {},
   "source": [
    "[link](example.com)"
   ]
  },
  {
   "cell_type": "code",
   "execution_count": null,
   "metadata": {},
   "outputs": [],
   "source": [
    "#| hide\n",
    "import nbdev; nbdev.nbdev_export()"
   ]
  },
  {
   "cell_type": "code",
   "execution_count": null,
   "metadata": {},
   "outputs": [],
   "source": []
  }
 ],
 "metadata": {
  "kernelspec": {
   "display_name": "python3",
   "language": "python",
   "name": "python3"
  }
 },
 "nbformat": 4,
 "nbformat_minor": 4
}
