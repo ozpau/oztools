{
 "cells": [
  {
   "cell_type": "markdown",
   "metadata": {},
   "source": [
    "# kgl\n",
    "\n",
    "> Command line utilities for kaggle competitions"
   ]
  },
  {
   "cell_type": "code",
   "execution_count": null,
   "metadata": {},
   "outputs": [],
   "source": [
    "#| default_exp kgl"
   ]
  },
  {
   "cell_type": "code",
   "execution_count": null,
   "metadata": {},
   "outputs": [],
   "source": [
    "#| hide\n",
    "from nbdev.showdoc import *"
   ]
  },
  {
   "cell_type": "code",
   "execution_count": null,
   "metadata": {},
   "outputs": [],
   "source": [
    "#| export\n",
    "from fastcore.all import *\n",
    "from fastkaggle import *\n",
    "import itertools as it\n",
    "\n",
    "from oztools.core import *\n",
    "from oztools.nbd import *\n",
    "\n",
    "import os,json,subprocess, shutil\n",
    "import re"
   ]
  },
  {
   "cell_type": "markdown",
   "metadata": {},
   "source": [
    "This module requires kaggle API token in order to work.\n",
    "See [here](https://github.com/Kaggle/kaggle-api/blob/main/docs/README.md#api-credentials) for info\n",
    "on how to setup that."
   ]
  },
  {
   "cell_type": "markdown",
   "metadata": {},
   "source": [
    "## Competition utils"
   ]
  },
  {
   "cell_type": "markdown",
   "metadata": {},
   "source": [
    "Modified version of `setup_comp` from `fastkaggle`.\n",
    "I like to put my data into `data` folders so it's easier to mask them in version control."
   ]
  },
  {
   "cell_type": "code",
   "execution_count": null,
   "metadata": {},
   "outputs": [],
   "source": [
    "#|export\n",
    "def setup_comp(competition, install=''):\n",
    "    \"Get a path to data for `competition`, downloading it if needed\"\n",
    "    if iskaggle:\n",
    "        if install:\n",
    "            os.system(f'pip install -Uqq {install}')\n",
    "        return Path('../input')/competition\n",
    "    else:\n",
    "        path = Path('./var')/competition\n",
    "        api = import_kaggle()\n",
    "        if not path.exists():\n",
    "            import zipfile\n",
    "            api.competition_download_cli(str(competition), path='./var')\n",
    "            zipfile.ZipFile(f'./var/{competition}.zip').extractall(path)\n",
    "        return path"
   ]
  },
  {
   "cell_type": "markdown",
   "metadata": {},
   "source": [
    "## Setup competition projects"
   ]
  },
  {
   "cell_type": "code",
   "execution_count": null,
   "metadata": {},
   "outputs": [
    {
     "data": {
      "text/plain": [
       "('AI Mathematical Olympiad - Progress Prize 2',\n",
       " 'ai-mathematical-olympiad-progress-prize-2')"
      ]
     },
     "execution_count": null,
     "metadata": {},
     "output_type": "execute_result"
    }
   ],
   "source": [
    "api = import_kaggle()\n",
    "comps = api.competitions_list()\n",
    "comp = comps[0]\n",
    "comp.title, comp.url.split(\"/\")[-1]"
   ]
  },
  {
   "cell_type": "code",
   "execution_count": null,
   "metadata": {},
   "outputs": [
    {
     "data": {
      "text/plain": [
       "37"
      ]
     },
     "execution_count": null,
     "metadata": {},
     "output_type": "execute_result"
    }
   ],
   "source": [
    "len(\"equity-post-HCT-survival-prediction  \")"
   ]
  },
  {
   "cell_type": "code",
   "execution_count": null,
   "metadata": {},
   "outputs": [],
   "source": [
    "#| export\n",
    "def disp_comp(comp):\n",
    "    slug = comp.url.split(\"/\")[-1]\n",
    "    return f\"{pad(slug[:40],40)} {comp.title[:40]}\""
   ]
  },
  {
   "cell_type": "code",
   "execution_count": null,
   "metadata": {},
   "outputs": [],
   "source": [
    "joinedkey = attrkey(\"user_has_entered\")"
   ]
  },
  {
   "cell_type": "code",
   "execution_count": null,
   "metadata": {},
   "outputs": [],
   "source": [
    "comps.sort(key=joinedkey)\n",
    "active, entered = (list(y) for x,y in it.groupby(comps, lambda x: x.user_has_entered))"
   ]
  },
  {
   "cell_type": "code",
   "execution_count": null,
   "metadata": {},
   "outputs": [],
   "source": [
    "#| export\n",
    "def get_competitions():\n",
    "    api = import_kaggle()\n",
    "    comps = api.competitions_list()\n",
    "    \n",
    "    joinedkey = attrkey(\"user_has_entered\")\n",
    "    comps.sort(key=joinedkey)\n",
    "    active, entered = (list(y) for x,y in it.groupby(comps, joinedkey))\n",
    "    return active, entered"
   ]
  },
  {
   "cell_type": "code",
   "execution_count": null,
   "metadata": {},
   "outputs": [
    {
     "data": {
      "text/plain": [
       "([{\"id\": 86023, \"ref\": \"https://www.kaggle.com/competitions/ai-mathematical-olympiad-progress-prize-2\", \"title\": \"AI Mathematical Olympiad - Progress Prize 2\", \"url\": \"https://www.kaggle.com/competitions/ai-mathematical-olympiad-progress-prize-2\", \"description\": \"Solve national-level math challenges using artificial intelligence models\", \"organizationName\": \"AI|MO\", \"organizationRef\": \"\", \"category\": \"Featured\", \"reward\": \"2,117,152 Usd\", \"tags\": [{\"ref\": \"nlp\", \"name\": \"nlp\", \"description\": \"Natural Language Processing gives a computer program the ability to extract meaning human language. Applications include sentiment analysis, translation, and speech recognition.\", \"fullPath\": \"analysis > nlp\", \"competitionCount\": 89, \"datasetCount\": 4512, \"scriptCount\": 8533, \"totalCount\": 13134}, {\"ref\": \"mathematics\", \"name\": \"mathematics\", \"description\": \"\", \"fullPath\": \"subject > mathematics\", \"competitionCount\": 4, \"datasetCount\": 120, \"scriptCount\": 179, \"totalCount\": 303}, {\"ref\": \"accuracy score\", \"name\": \"accuracy score\", \"description\": \"Accuracy classification score. See https://scikit-learn.org/stable/modules/generated/sklearn.metrics.accuracy_score.html\", \"fullPath\": \"\", \"competitionCount\": 0, \"datasetCount\": 0, \"scriptCount\": 0, \"totalCount\": 0}], \"deadline\": \"2025-04-01T23:59:00.000Z\", \"kernelCount\": 0, \"teamCount\": 2162, \"userHasEntered\": false, \"userRank\": 0, \"mergerDeadline\": \"2025-03-25T23:59:00.000Z\", \"newEntrantDeadline\": \"2025-03-25T23:59:00.000Z\", \"enabledDate\": \"2024-10-17T15:00:47.587Z\", \"maxDailySubmissions\": 1, \"maxTeamSize\": 7, \"evaluationMetric\": \"Accuracy Score\", \"awardsPoints\": true, \"isKernelsSubmissionsOnly\": true, \"submissionsDisabled\": false}],\n",
       " [{\"id\": 91714, \"ref\": \"https://www.kaggle.com/competitions/playground-series-s5e3\", \"title\": \"Binary Prediction with a Rainfall Dataset\", \"url\": \"https://www.kaggle.com/competitions/playground-series-s5e3\", \"description\": \"Playground Series - Season 5, Episode 3\", \"organizationName\": \"Kaggle\", \"organizationRef\": \"\", \"category\": \"Playground\", \"reward\": \"Swag\", \"tags\": [{\"ref\": \"weather and climate\", \"name\": \"weather and climate\", \"description\": \"Weather datasets and kernels come in all wind speeds and directions. You have weather data about hurricanes and other inclement phenomena, hourly readings, and general weather for various cities.\", \"fullPath\": \"subject > earth and nature > environment > weather and climate\", \"competitionCount\": 13, \"datasetCount\": 1319, \"scriptCount\": 624, \"totalCount\": 1956}, {\"ref\": \"beginner\", \"name\": \"beginner\", \"description\": \"New to data science? Explore tips, tricks, and beginner friendly work from other Kagglers.\", \"fullPath\": \"audience > beginner\", \"competitionCount\": 12902, \"datasetCount\": 8233, \"scriptCount\": 42012, \"totalCount\": 63147}, {\"ref\": \"time series analysis\", \"name\": \"time series analysis\", \"description\": \"\", \"fullPath\": \"technique > time series analysis\", \"competitionCount\": 479, \"datasetCount\": 2663, \"scriptCount\": 3716, \"totalCount\": 6858}, {\"ref\": \"tabular\", \"name\": \"tabular\", \"description\": \"\", \"fullPath\": \"data type > tabular\", \"competitionCount\": 13566, \"datasetCount\": 11739, \"scriptCount\": 7106, \"totalCount\": 32411}, {\"ref\": \"roc auc score\", \"name\": \"roc auc score\", \"description\": \"Compute Area Under the Receiver Operating Characteristic Curve (ROC AUC)     from prediction scores. See https://scikit-learn.org/stable/modules/generated/sklearn.metrics.roc_auc_score.html\", \"fullPath\": \"\", \"competitionCount\": 0, \"datasetCount\": 0, \"scriptCount\": 0, \"totalCount\": 0}], \"deadline\": \"2025-03-31T23:59:00.000Z\", \"kernelCount\": 0, \"teamCount\": 2734, \"userHasEntered\": true, \"userRank\": 2040, \"mergerDeadline\": \"2025-03-31T23:59:00.000Z\", \"newEntrantDeadline\": null, \"enabledDate\": \"2025-03-01T00:01:34.057Z\", \"maxDailySubmissions\": 5, \"maxTeamSize\": 3, \"evaluationMetric\": \"Roc Auc Score\", \"awardsPoints\": false, \"isKernelsSubmissionsOnly\": false, \"submissionsDisabled\": false}])"
      ]
     },
     "execution_count": null,
     "metadata": {},
     "output_type": "execute_result"
    }
   ],
   "source": [
    "active, entered = get_competitions()\n",
    "active[:1], entered[:1]"
   ]
  },
  {
   "cell_type": "code",
   "execution_count": null,
   "metadata": {},
   "outputs": [],
   "source": [
    "#| export\n",
    "@call_parse\n",
    "def kgl_list():\n",
    "    \"List kaggle competitions\"\n",
    "\n",
    "    active, entered = get_competitions()\n",
    "\n",
    "    return '\\n'.join((\"Joined:\", *str_enumerate(map(disp_comp, entered), 1),\n",
    "                      \"Active:\", *str_enumerate(map(disp_comp, active), 1+len(entered))))"
   ]
  },
  {
   "cell_type": "code",
   "execution_count": null,
   "metadata": {},
   "outputs": [
    {
     "name": "stdout",
     "output_type": "stream",
     "text": [
      "Joined:\n",
      "  1   playground-series-s5e3                   Binary Prediction with a Rainfall Datase\n",
      "  2   store-sales-time-series-forecasting      Store Sales - Time Series Forecasting\n",
      "Active:\n",
      "  3   ai-mathematical-olympiad-progress-prize- AI Mathematical Olympiad - Progress Priz\n",
      "  4   stanford-rna-3d-folding                  Stanford RNA 3D Folding\n",
      "  5   byu-locating-bacterial-flagellar-motors- BYU - Locating Bacterial Flagellar Motor\n",
      "  6   march-machine-learning-mania-2025        March Machine Learning Mania 2025\n",
      "  7   drawing-with-llms                        Drawing with LLMs\n",
      "  8   birdclef-2025                            BirdCLEF+ 2025\n",
      "  9   titanic                                  Titanic - Machine Learning from Disaster\n",
      "  10  home-data-for-ml-course                  Housing Prices Competition for Kaggle Le\n",
      "  11  house-prices-advanced-regression-techniq House Prices - Advanced Regression Techn\n",
      "  12  spaceship-titanic                        Spaceship Titanic\n",
      "  13  digit-recognizer                         Digit Recognizer\n",
      "  14  nlp-getting-started                      Natural Language Processing with Disaste\n",
      "  15  connectx                                 Connect X\n",
      "  16  llm-classification-finetuning            LLM Classification Finetuning\n",
      "  17  gan-getting-started                      I’m Something of a Painter Myself\n",
      "  18  contradictory-my-dear-watson             Contradictory, My Dear Watson\n",
      "  19  tpu-getting-started                      Petals to the Metal - Flower Classificat\n",
      "  20  konwinski-prize                          Konwinski Prize\n"
     ]
    }
   ],
   "source": [
    "print(kgl_list())"
   ]
  },
  {
   "cell_type": "code",
   "execution_count": null,
   "metadata": {},
   "outputs": [],
   "source": [
    "#| export\n",
    "def maybe_int(x: str):\n",
    "    try:\n",
    "        return int(x)\n",
    "    except ValueError:\n",
    "        return x"
   ]
  },
  {
   "cell_type": "code",
   "execution_count": null,
   "metadata": {},
   "outputs": [],
   "source": [
    "comp = comps[0]"
   ]
  },
  {
   "cell_type": "code",
   "execution_count": null,
   "metadata": {},
   "outputs": [
    {
     "data": {
      "text/plain": [
       "'https://www.kaggle.com/competitions/ai-mathematical-olympiad-progress-prize-2'"
      ]
     },
     "execution_count": null,
     "metadata": {},
     "output_type": "execute_result"
    }
   ],
   "source": [
    "comp.url"
   ]
  },
  {
   "cell_type": "code",
   "execution_count": null,
   "metadata": {},
   "outputs": [
    {
     "data": {
      "text/plain": [
       "'AI Mathematical Olympiad - Progress Prize 2'"
      ]
     },
     "execution_count": null,
     "metadata": {},
     "output_type": "execute_result"
    }
   ],
   "source": [
    "comp.title"
   ]
  },
  {
   "cell_type": "code",
   "execution_count": null,
   "metadata": {},
   "outputs": [],
   "source": [
    "#| export\n",
    "def get_competition(n: str):\n",
    "    active, entered = get_competitions()\n",
    "    comps = entered + active\n",
    "\n",
    "    try:\n",
    "        try: return comps[int(n)-1]\n",
    "        except ValueError: return L(comps).filter(lambda x: n in x.url.split(\"/\")[-1])[0]\n",
    "    except IndexError:\n",
    "        warn(\"Couldn't find competition\")\n",
    "        return"
   ]
  },
  {
   "cell_type": "code",
   "execution_count": null,
   "metadata": {},
   "outputs": [],
   "source": [
    "#| export\n",
    "@call_parse\n",
    "def kgl_new(n: str, # competition id or name\n",
    "            save_to: str # project name to use locally and for github\n",
    "            ):\n",
    "    \"Setup nbdev environment for a kaggle competition\"\n",
    "    comp = get_competition(n)\n",
    "    if not comp:\n",
    "        return\n",
    "\n",
    "    save_to = \"kaggle_\" + save_to\n",
    "    \n",
    "    print(f'Loading competition \"{comp.title}\" into \"{save_to}\"')\n",
    "    nbd_new_fn(save_to, f'Code for [{comp.title}]({comp.url}) Kaggle competition')"
   ]
  },
  {
   "cell_type": "markdown",
   "metadata": {},
   "source": [
    "## Adopted from fastkaggle\n",
    "Changes:\n",
    "- Allow uploading current project even if it's not on pip\n",
    "- Kaggle API changed since 3 years ago, so had to fix code"
   ]
  },
  {
   "cell_type": "code",
   "execution_count": null,
   "metadata": {},
   "outputs": [],
   "source": [
    "#| export\n",
    "def create_lib_dataset(ds_name,\n",
    "                       lib_source,\n",
    "                       lib_path, # Local path to dl/create dataset\n",
    "                       username, # You username\n",
    "                       clear_after=False # Delete local copies after sync with kaggle?\n",
    "                       ):\n",
    "    '''For each library, create or update a kaggle dataset with the latest version'''    \n",
    "    retain = [\"dataset-metadata.json\"]\n",
    "\n",
    "    lib = lib_source\n",
    "    title = f\"library-{ds_name}\"\n",
    "    local_path = lib_path/title\n",
    "    print(f\"{lib} | Processing as {title} at {local_path}\")\n",
    "    if Path(local_path).exists(): shutil.rmtree(local_path)\n",
    "\n",
    "    print(f\"{lib} | Downloading or Creating Dataset\")\n",
    "    try: get_dataset(local_path,f\"{username}/{title}\",force=True)\n",
    "    except Exception as ex:\n",
    "        if '404' or '403' in str(ex): mk_dataset(local_path,title,force=True)\n",
    "        else: raise ex\n",
    "        \n",
    "    print(f\"{lib} | Checking dataset version against pip\")\n",
    "    ver_local_orig = get_local_ds_ver(lib_path,lib)\n",
    "\n",
    "    for item in local_path.ls():\n",
    "        if item.name not in retain: \n",
    "            if item.is_dir(): shutil.rmtree(item)\n",
    "            else: item.unlink()\n",
    "    get_pip_library(local_path,lib)\n",
    "    ver_local_new = get_local_ds_ver(lib_path,lib)\n",
    "    if (ver_local_new != ver_local_orig) or (ver_local_new==None and ver_local_orig==None): \n",
    "        print(f\"{lib} | Updating {lib} in Kaggle from {ver_local_orig} to {ver_local_new}\")\n",
    "        \n",
    "        push_dataset(local_path,ifnone (ver_local_new, \"Version Unknown\"))\n",
    "    else: print(f\"{lib} | Kaggle dataset already up to date {ver_local_orig} to {ver_local_new}\")\n",
    "    if clear_after: shutil.rmtree(local_path)\n",
    "    print(f\"{lib} | Complete\")"
   ]
  },
  {
   "cell_type": "code",
   "execution_count": null,
   "metadata": {},
   "outputs": [],
   "source": [
    "#| hide\n",
    "import nbdev; nbdev.nbdev_export()"
   ]
  },
  {
   "cell_type": "code",
   "execution_count": null,
   "metadata": {},
   "outputs": [],
   "source": []
  }
 ],
 "metadata": {
  "kernelspec": {
   "display_name": "python3",
   "language": "python",
   "name": "python3"
  }
 },
 "nbformat": 4,
 "nbformat_minor": 4
}
