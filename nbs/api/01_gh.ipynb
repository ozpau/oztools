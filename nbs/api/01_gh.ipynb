{
 "cells": [
  {
   "cell_type": "markdown",
   "id": "9c8cf725-f4c7-4bd1-ab7f-c523a908ac4a",
   "metadata": {},
   "source": [
    "# gh\n",
    "\n",
    "> Command line utilities for github"
   ]
  },
  {
   "cell_type": "code",
   "execution_count": null,
   "id": "2eb94c62-53b2-49a8-94db-f6619642c2b7",
   "metadata": {},
   "outputs": [],
   "source": [
    "#| default_exp gh"
   ]
  },
  {
   "cell_type": "code",
   "execution_count": null,
   "id": "06942082-f99c-4350-95cd-27aa67151481",
   "metadata": {},
   "outputs": [],
   "source": [
    "#| hide\n",
    "from nbdev.showdoc import *"
   ]
  },
  {
   "cell_type": "code",
   "execution_count": null,
   "id": "9fd05be0-5aff-46d4-84df-03c3cbb808b3",
   "metadata": {},
   "outputs": [],
   "source": [
    "#| export\n",
    "from fastcore.all import *\n",
    "import itertools as it\n",
    "import os\n",
    "from ghapi.all import *\n",
    "\n",
    "import configparser\n",
    "from pathlib import Path\n",
    "\n",
    "from oztools.core import *\n",
    "\n",
    "import git\n",
    "from git import Repo\n",
    "\n",
    "import logging\n",
    "logger = logging.getLogger(__name__)"
   ]
  },
  {
   "cell_type": "markdown",
   "id": "56cd9835-df89-467c-8bc9-4dcea9ace9f0",
   "metadata": {},
   "source": [
    "To use this module you need to setup GitHub [personal access token](https://docs.github.com/github/authenticating-to-github/creating-a-personal-access-token), which is a secret code used to access your account.\n",
    "\n",
    "If you don't have one, [click here](https://github.com/settings/tokens/new) to create one. You'll be asked to enter a name -- choose anything you like, for instance \"oztools\".\n",
    "In \"scopes\" choose \"repo\", \"gist\", \"notifications\", and \"workflow\". Then clock \"Generate Token\" and copy the token. Then add it for example to your `.bashrc` as `export GITHUB_TOKEN=\"<your github token goes here>\"`."
   ]
  },
  {
   "cell_type": "code",
   "execution_count": null,
   "id": "75df98c4-916c-44b4-8bcd-001d795bef2e",
   "metadata": {},
   "outputs": [],
   "source": [
    "#| export\n",
    "token = os.environ[\"GITHUB_TOKEN\"]\n",
    "api = GhApi(token=token)\n",
    "if 'GITHUB_ACTOR' in os.environ:\n",
    "    gh_username = \"ozpau\" # you can't get login name from github workflow\n",
    "else:\n",
    "    gh_username = api.users.get_authenticated()['login']\n",
    "\n",
    "api = GhApi(owner=gh_username, token=token)"
   ]
  },
  {
   "cell_type": "code",
   "execution_count": null,
   "id": "50ed4c2e-79f6-4b11-aa55-25176c2cea75",
   "metadata": {},
   "outputs": [],
   "source": [
    "import oztools"
   ]
  },
  {
   "cell_type": "code",
   "execution_count": null,
   "id": "3940832b-f713-4ac1-b175-f613bd8926de",
   "metadata": {},
   "outputs": [
    {
     "data": {
      "text/plain": [
       "\u001b[0;31mType:\u001b[0m        module\n",
       "\u001b[0;31mString form:\u001b[0m <module 'oztools' from '/home/mu/nbdev/oztools/oztools/__init__.py'>\n",
       "\u001b[0;31mFile:\u001b[0m        ~/nbdev/oztools/oztools/__init__.py\n",
       "\u001b[0;31mDocstring:\u001b[0m   <no docstring>"
      ]
     },
     "metadata": {},
     "output_type": "display_data"
    }
   ],
   "source": [
    "oztools?"
   ]
  },
  {
   "cell_type": "code",
   "execution_count": null,
   "id": "5de23b3a-3df6-47c1-a35d-d74a6b5e8ef6",
   "metadata": {},
   "outputs": [
    {
     "data": {
      "text/plain": [
       "'ozpau'"
      ]
     },
     "execution_count": null,
     "metadata": {},
     "output_type": "execute_result"
    }
   ],
   "source": [
    "gh_username"
   ]
  },
  {
   "cell_type": "code",
   "execution_count": null,
   "id": "3b663bf9-d3da-4c0f-98e9-b9e4f3262903",
   "metadata": {},
   "outputs": [],
   "source": [
    "#| export\n",
    "@call_parse\n",
    "def gh_licenses():\n",
    "    \"List GitHub license templates\"\n",
    "    l = api.licenses.get_all_commonly_used(per_page=100)\n",
    "    #return l.attrgot(\"spdx_id\")\n",
    "    return \"\\n\".join(l.map(lambda x: f\"{pad(x['spdx_id'],16)}{pad(x['name'],42)}\"))"
   ]
  },
  {
   "cell_type": "markdown",
   "id": "c2f97278-e406-4bfd-b809-38613b004dd1",
   "metadata": {},
   "source": [
    "TODO: It would be nice if `@call_parse` created not just a cli wrapper, but also a raw function"
   ]
  },
  {
   "cell_type": "code",
   "execution_count": null,
   "id": "42afdf2e-2435-46f4-beb3-ca75bc3a30b7",
   "metadata": {},
   "outputs": [],
   "source": [
    "#| export\n",
    "def gh_new_repo_fn(name, description, license, private):\n",
    "    gh_repo = api.repos.create_for_authenticated_user(name, description, private=private, license_template=license)\n",
    "    local_repo = Repo.clone_from(gh_repo.ssh_url, gh_repo.name)\n",
    "    return gh_repo, local_repo"
   ]
  },
  {
   "cell_type": "code",
   "execution_count": null,
   "id": "c2912473-f4bf-4224-a34f-1ad04732df7a",
   "metadata": {},
   "outputs": [],
   "source": [
    "#| export\n",
    "@call_parse\n",
    "def gh_new_repo(name:str, description:str, license:str=\"Apache-2.0\", private:bool=False):\n",
    "    \"Create a new github repo and clone it\"\n",
    "    gh_new_repo_fn(name, description, license, private)"
   ]
  },
  {
   "cell_type": "code",
   "execution_count": null,
   "id": "f0144671-3235-4b47-97b7-0a0b885a7ad5",
   "metadata": {},
   "outputs": [],
   "source": [
    "#| export\n",
    "def commit_and_push(repo: Repo, # Repo to commit and push\n",
    "                    msg: str # Commit message\n",
    "                   ):\n",
    "    repo.git.add('.')\n",
    "    repo.index.commit(msg)\n",
    "    origin = repo.remote(name='origin')\n",
    "    origin.push()"
   ]
  },
  {
   "cell_type": "code",
   "execution_count": null,
   "id": "2b356399-a2e2-436c-a088-501b722cf6a3",
   "metadata": {},
   "outputs": [],
   "source": [
    "#gh_new_repo(\"cadlab\", \"CAD tools for Jupyter notebooks\")"
   ]
  },
  {
   "cell_type": "code",
   "execution_count": null,
   "id": "b61d5b2f-c2cc-4124-9d75-dde600ec53fa",
   "metadata": {},
   "outputs": [
    {
     "data": {
      "text/plain": [
       "Path('/home/mu/nbdev/oztools/nbs/api')"
      ]
     },
     "execution_count": null,
     "metadata": {},
     "output_type": "execute_result"
    }
   ],
   "source": [
    "Path().cwd()"
   ]
  },
  {
   "cell_type": "code",
   "execution_count": null,
   "id": "31abe9ac-283b-42bb-8b53-c2a31102cf01",
   "metadata": {},
   "outputs": [],
   "source": [
    "#from nbdev.cli import *"
   ]
  },
  {
   "cell_type": "code",
   "execution_count": null,
   "id": "967e6402-2c33-4cbb-b1da-8fc8e3955701",
   "metadata": {},
   "outputs": [],
   "source": [
    "#nbdev_new()"
   ]
  },
  {
   "cell_type": "code",
   "execution_count": null,
   "id": "b6fca912-ff9d-4dcf-a11c-4e1e7c21d5a6",
   "metadata": {},
   "outputs": [],
   "source": [
    "#api.repos.list_for_org(\"\")"
   ]
  },
  {
   "cell_type": "code",
   "execution_count": null,
   "id": "357edf5a-7997-4834-8c16-00037cbcbe04",
   "metadata": {},
   "outputs": [],
   "source": [
    "gh_repo = api.repos.get(\"ozpau.github.io\")"
   ]
  },
  {
   "cell_type": "code",
   "execution_count": null,
   "id": "da90c4b0-2b7d-483a-b317-db2277c49615",
   "metadata": {},
   "outputs": [],
   "source": [
    "local_repo = Repo('../..')"
   ]
  },
  {
   "cell_type": "code",
   "execution_count": null,
   "id": "a3addf0b-c125-42b6-a25a-546d10530af9",
   "metadata": {},
   "outputs": [],
   "source": [
    "#head = local_repo.create_head('gh-pages')\n",
    "#local_repo.git.push('--set-upstream', 'origin', head)"
   ]
  },
  {
   "cell_type": "code",
   "execution_count": null,
   "id": "6414e945-0c9f-4eda-8b28-b3ebf5dd0a2f",
   "metadata": {},
   "outputs": [],
   "source": [
    "#| export\n",
    "def add_new_branch(repo: Repo, branch_name: str):\n",
    "    \"Create new branch and push it to upstream\"\n",
    "    head = repo.create_head(branch_name)\n",
    "    repo.git.push('--set-upstream', 'origin', head)"
   ]
  },
  {
   "cell_type": "markdown",
   "id": "da929b26-1a3c-49c2-b292-ebae7f58ef69",
   "metadata": {},
   "source": [
    "Note that we need to split setting up branch in two parts\n",
    "so that if we decide to commit something after setting up gh-pages\n",
    "branch, it won't interrupt page deployment."
   ]
  },
  {
   "cell_type": "code",
   "execution_count": null,
   "id": "c104361a-5e39-4a35-9ad1-287cb8ee6f32",
   "metadata": {},
   "outputs": [],
   "source": [
    "#| export\n",
    "def setup_pages_branch(local_repo: Repo, repo_name: str):\n",
    "    add_new_branch(local_repo, 'gh-pages')\n",
    "\n",
    "def setup_pages_branch_location(local_repo: Repo, repo_name: str):\n",
    "    new_source = {\"branch\":\"gh-pages\"}\n",
    "    try:\n",
    "        api.repos.create_pages_site(repo_name, source={\"branch\":\"gh-pages\"})\n",
    "    except HTTP409ConflictError:\n",
    "        api.repos.update_information_about_pages_site(repo_name,\n",
    "                                                      source={\"branch\":\"gh-pages\", \"path\": \"/\"})\n",
    "    api.repos.request_pages_build(repo_name)"
   ]
  },
  {
   "cell_type": "code",
   "execution_count": null,
   "id": "c8f0df35-7697-44ae-b9d5-248dd05815c3",
   "metadata": {},
   "outputs": [],
   "source": [
    "#| hide\n",
    "import nbdev; nbdev.nbdev_export()"
   ]
  },
  {
   "cell_type": "code",
   "execution_count": null,
   "id": "5689e33c-43d8-43dd-b845-66fa1825192d",
   "metadata": {},
   "outputs": [],
   "source": []
  }
 ],
 "metadata": {
  "kernelspec": {
   "display_name": "python3",
   "language": "python",
   "name": "python3"
  }
 },
 "nbformat": 4,
 "nbformat_minor": 5
}
