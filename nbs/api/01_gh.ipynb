{
 "cells": [
  {
   "cell_type": "markdown",
   "id": "9c8cf725-f4c7-4bd1-ab7f-c523a908ac4a",
   "metadata": {},
   "source": [
    "# gh\n",
    "\n",
    "> Command line utilities for github"
   ]
  },
  {
   "cell_type": "code",
   "execution_count": null,
   "id": "2eb94c62-53b2-49a8-94db-f6619642c2b7",
   "metadata": {},
   "outputs": [],
   "source": [
    "#| default_exp gh"
   ]
  },
  {
   "cell_type": "code",
   "execution_count": null,
   "id": "06942082-f99c-4350-95cd-27aa67151481",
   "metadata": {},
   "outputs": [],
   "source": [
    "#| hide\n",
    "from nbdev.showdoc import *"
   ]
  },
  {
   "cell_type": "code",
   "execution_count": null,
   "id": "9fd05be0-5aff-46d4-84df-03c3cbb808b3",
   "metadata": {},
   "outputs": [],
   "source": [
    "#| export\n",
    "from fastcore.all import *\n",
    "import itertools as it\n",
    "import os\n",
    "from ghapi.all import *\n",
    "\n",
    "import configparser\n",
    "from pathlib import Path\n",
    "\n",
    "from oztools.core import *\n",
    "\n",
    "from warnings import warn\n",
    "import git\n",
    "from git import Repo\n",
    "\n",
    "import logging\n",
    "logger = logging.getLogger(__name__)"
   ]
  },
  {
   "cell_type": "markdown",
   "id": "56cd9835-df89-467c-8bc9-4dcea9ace9f0",
   "metadata": {},
   "source": [
    "To use this module you need to setup GitHub [personal access token](https://docs.github.com/github/authenticating-to-github/creating-a-personal-access-token), which is a secret code used to access your account.\n",
    "\n",
    "If you don't have one, [click here](https://github.com/settings/tokens/new) to create one. You'll be asked to enter a name -- choose anything you like, for instance \"oztools\".\n",
    "In \"scopes\" choose \"repo\", \"gist\", \"notifications\", and \"workflow\". Then clock \"Generate Token\" and copy the token. Then add it for example to your `.bashrc` as `export GITHUB_TOKEN=\"<your github token goes here>\"`."
   ]
  },
  {
   "cell_type": "code",
   "execution_count": null,
   "id": "bc1d37fc-b4ab-40b9-a5c4-732b0c2f53d2",
   "metadata": {},
   "outputs": [
    {
     "name": "stderr",
     "output_type": "stream",
     "text": [
      "/tmp/ipykernel_1295329/502382720.py:1: UserWarning: hello\n",
      "  warn(\"hello\")\n"
     ]
    }
   ],
   "source": [
    "warn(\"hello\")"
   ]
  },
  {
   "cell_type": "code",
   "execution_count": null,
   "id": "ffc9b19c-041e-467b-812d-ab57324bb05b",
   "metadata": {},
   "outputs": [],
   "source": [
    "#| export\n",
    "def get_token_and_username():\n",
    "    if \"GITHUB_TOKEN\" not in os.environ:\n",
    "        warn(\"GITHUB_TOKEN is missing\")\n",
    "        return \"GITHUB_TOKEN-missing\", \"username-missing\"\n",
    "    \n",
    "    token = os.environ[\"GITHUB_TOKEN\"]\n",
    "    api = GhApi(token=token)\n",
    "    if 'GITHUB_ACTOR' in os.environ:\n",
    "        gh_username = \"ozpau\" # you can't get login name from github workflow\n",
    "    else:\n",
    "        gh_username = api.users.get_authenticated()['login']\n",
    "    return token, gh_username"
   ]
  },
  {
   "cell_type": "code",
   "execution_count": null,
   "id": "75df98c4-916c-44b4-8bcd-001d795bef2e",
   "metadata": {},
   "outputs": [],
   "source": [
    "#| export\n",
    "token, gh_username = get_token_and_username()\n",
    "api = GhApi(owner=gh_username, token=token)"
   ]
  },
  {
   "cell_type": "code",
   "execution_count": null,
   "id": "50ed4c2e-79f6-4b11-aa55-25176c2cea75",
   "metadata": {},
   "outputs": [],
   "source": [
    "import oztools"
   ]
  },
  {
   "cell_type": "code",
   "execution_count": null,
   "id": "3940832b-f713-4ac1-b175-f613bd8926de",
   "metadata": {},
   "outputs": [
    {
     "data": {
      "text/plain": [
       "\u001b[0;31mType:\u001b[0m        module\n",
       "\u001b[0;31mString form:\u001b[0m <module 'oztools' from '/home/mu/nbdev/oztools/oztools/__init__.py'>\n",
       "\u001b[0;31mFile:\u001b[0m        ~/nbdev/oztools/oztools/__init__.py\n",
       "\u001b[0;31mDocstring:\u001b[0m   <no docstring>"
      ]
     },
     "metadata": {},
     "output_type": "display_data"
    }
   ],
   "source": [
    "oztools?"
   ]
  },
  {
   "cell_type": "code",
   "execution_count": null,
   "id": "5de23b3a-3df6-47c1-a35d-d74a6b5e8ef6",
   "metadata": {},
   "outputs": [
    {
     "data": {
      "text/plain": [
       "'ozpau'"
      ]
     },
     "execution_count": null,
     "metadata": {},
     "output_type": "execute_result"
    }
   ],
   "source": [
    "gh_username"
   ]
  },
  {
   "cell_type": "code",
   "execution_count": null,
   "id": "f5b38565-a423-4856-932f-397cff87ee74",
   "metadata": {},
   "outputs": [],
   "source": [
    "repo = api.repos.get('make_llm')"
   ]
  },
  {
   "cell_type": "code",
   "execution_count": null,
   "id": "70737b21-11af-4470-89ee-61d4426b07f6",
   "metadata": {},
   "outputs": [
    {
     "ename": "HTTP404NotFoundError",
     "evalue": "HTTP Error 404: Not Found\n====Error Body====\n{\n  \"message\": \"Not Found\",\n  \"documentation_url\": \"https://docs.github.com/rest/pages/pages#get-latest-pages-build\",\n  \"status\": \"404\"\n}\n",
     "output_type": "error",
     "traceback": [
      "\u001b[0;31m---------------------------------------------------------------------------\u001b[0m",
      "\u001b[0;31mHTTP404NotFoundError\u001b[0m                      Traceback (most recent call last)",
      "Cell \u001b[0;32mIn[16], line 1\u001b[0m\n\u001b[0;32m----> 1\u001b[0m \u001b[43mapi\u001b[49m\u001b[38;5;241;43m.\u001b[39;49m\u001b[43mrepos\u001b[49m\u001b[38;5;241;43m.\u001b[39;49m\u001b[43mget_latest_pages_build\u001b[49m\u001b[43m(\u001b[49m\u001b[38;5;124;43m'\u001b[39;49m\u001b[38;5;124;43mmake_llm\u001b[39;49m\u001b[38;5;124;43m'\u001b[39;49m\u001b[43m)\u001b[49m\n",
      "File \u001b[0;32m~/python/venv/lib/python3.12/site-packages/ghapi/core.py:74\u001b[0m, in \u001b[0;36m_GhVerb.__call__\u001b[0;34m(self, headers, *args, **kwargs)\u001b[0m\n\u001b[1;32m     71\u001b[0m \u001b[38;5;28;01mfor\u001b[39;00m a,b \u001b[38;5;129;01min\u001b[39;00m \u001b[38;5;28mzip\u001b[39m(args,flds): kwargs[b]\u001b[38;5;241m=\u001b[39ma\n\u001b[1;32m     72\u001b[0m route_p,query_p,data_p \u001b[38;5;241m=\u001b[39m [{p:kwargs[p] \u001b[38;5;28;01mfor\u001b[39;00m p \u001b[38;5;129;01min\u001b[39;00m o \u001b[38;5;28;01mif\u001b[39;00m p \u001b[38;5;129;01min\u001b[39;00m kwargs}\n\u001b[1;32m     73\u001b[0m                          \u001b[38;5;28;01mfor\u001b[39;00m o \u001b[38;5;129;01min\u001b[39;00m (\u001b[38;5;28mself\u001b[39m\u001b[38;5;241m.\u001b[39mroute_ps,\u001b[38;5;28mself\u001b[39m\u001b[38;5;241m.\u001b[39mparams,d)]\n\u001b[0;32m---> 74\u001b[0m \u001b[38;5;28;01mreturn\u001b[39;00m \u001b[38;5;28;43mself\u001b[39;49m\u001b[38;5;241;43m.\u001b[39;49m\u001b[43mclient\u001b[49m\u001b[43m(\u001b[49m\u001b[38;5;28;43mself\u001b[39;49m\u001b[38;5;241;43m.\u001b[39;49m\u001b[43mpath\u001b[49m\u001b[43m,\u001b[49m\u001b[43m \u001b[49m\u001b[38;5;28;43mself\u001b[39;49m\u001b[38;5;241;43m.\u001b[39;49m\u001b[43mverb\u001b[49m\u001b[43m,\u001b[49m\u001b[43m \u001b[49m\u001b[43mheaders\u001b[49m\u001b[38;5;241;43m=\u001b[39;49m\u001b[43mheaders\u001b[49m\u001b[43m,\u001b[49m\u001b[43m \u001b[49m\u001b[43mdecode\u001b[49m\u001b[38;5;241;43m=\u001b[39;49m\u001b[38;5;28;43mself\u001b[39;49m\u001b[38;5;241;43m.\u001b[39;49m\u001b[43mdecode\u001b[49m\u001b[43m,\u001b[49m\u001b[43m \u001b[49m\u001b[43mroute\u001b[49m\u001b[38;5;241;43m=\u001b[39;49m\u001b[43mroute_p\u001b[49m\u001b[43m,\u001b[49m\u001b[43m \u001b[49m\u001b[43mquery\u001b[49m\u001b[38;5;241;43m=\u001b[39;49m\u001b[43mquery_p\u001b[49m\u001b[43m,\u001b[49m\u001b[43m \u001b[49m\u001b[43mdata\u001b[49m\u001b[38;5;241;43m=\u001b[39;49m\u001b[43mdata_p\u001b[49m\u001b[43m)\u001b[49m\n",
      "File \u001b[0;32m~/python/venv/lib/python3.12/site-packages/ghapi/core.py:133\u001b[0m, in \u001b[0;36mGhApi.__call__\u001b[0;34m(self, path, verb, headers, route, query, data, timeout, decode)\u001b[0m\n\u001b[1;32m    131\u001b[0m return_json \u001b[38;5;241m=\u001b[39m (\u001b[38;5;124m'\u001b[39m\u001b[38;5;124mjson\u001b[39m\u001b[38;5;124m'\u001b[39m \u001b[38;5;129;01min\u001b[39;00m headers[\u001b[38;5;124m'\u001b[39m\u001b[38;5;124mAccept\u001b[39m\u001b[38;5;124m'\u001b[39m]) \u001b[38;5;129;01mand\u001b[39;00m (decode \u001b[38;5;129;01mis\u001b[39;00m \u001b[38;5;28;01mTrue\u001b[39;00m)\n\u001b[1;32m    132\u001b[0m debug \u001b[38;5;241m=\u001b[39m \u001b[38;5;28mself\u001b[39m\u001b[38;5;241m.\u001b[39mdebug \u001b[38;5;28;01mif\u001b[39;00m \u001b[38;5;28mself\u001b[39m\u001b[38;5;241m.\u001b[39mdebug \u001b[38;5;28;01melse\u001b[39;00m print_summary \u001b[38;5;28;01mif\u001b[39;00m os\u001b[38;5;241m.\u001b[39mgetenv(\u001b[38;5;124m'\u001b[39m\u001b[38;5;124mGHAPI_DEBUG\u001b[39m\u001b[38;5;124m'\u001b[39m) \u001b[38;5;28;01melse\u001b[39;00m \u001b[38;5;28;01mNone\u001b[39;00m\n\u001b[0;32m--> 133\u001b[0m res,\u001b[38;5;28mself\u001b[39m\u001b[38;5;241m.\u001b[39mrecv_hdrs \u001b[38;5;241m=\u001b[39m \u001b[43murlsend\u001b[49m\u001b[43m(\u001b[49m\u001b[43mpath\u001b[49m\u001b[43m,\u001b[49m\u001b[43m \u001b[49m\u001b[43mverb\u001b[49m\u001b[43m,\u001b[49m\u001b[43m \u001b[49m\u001b[43mheaders\u001b[49m\u001b[38;5;241;43m=\u001b[39;49m\u001b[43mheaders\u001b[49m\u001b[43m \u001b[49m\u001b[38;5;129;43;01mor\u001b[39;49;00m\u001b[43m \u001b[49m\u001b[38;5;28;43;01mNone\u001b[39;49;00m\u001b[43m,\u001b[49m\u001b[43m \u001b[49m\u001b[43mdecode\u001b[49m\u001b[38;5;241;43m=\u001b[39;49m\u001b[43mdecode\u001b[49m\u001b[43m,\u001b[49m\u001b[43m \u001b[49m\u001b[43mdebug\u001b[49m\u001b[38;5;241;43m=\u001b[39;49m\u001b[43mdebug\u001b[49m\u001b[43m,\u001b[49m\u001b[43m \u001b[49m\u001b[43mreturn_headers\u001b[49m\u001b[38;5;241;43m=\u001b[39;49m\u001b[38;5;28;43;01mTrue\u001b[39;49;00m\u001b[43m,\u001b[49m\n\u001b[1;32m    134\u001b[0m \u001b[43m                             \u001b[49m\u001b[43mroute\u001b[49m\u001b[38;5;241;43m=\u001b[39;49m\u001b[43mroute\u001b[49m\u001b[43m \u001b[49m\u001b[38;5;129;43;01mor\u001b[39;49;00m\u001b[43m \u001b[49m\u001b[38;5;28;43;01mNone\u001b[39;49;00m\u001b[43m,\u001b[49m\u001b[43m \u001b[49m\u001b[43mquery\u001b[49m\u001b[38;5;241;43m=\u001b[39;49m\u001b[43mquery\u001b[49m\u001b[43m \u001b[49m\u001b[38;5;129;43;01mor\u001b[39;49;00m\u001b[43m \u001b[49m\u001b[38;5;28;43;01mNone\u001b[39;49;00m\u001b[43m,\u001b[49m\u001b[43m \u001b[49m\u001b[43mdata\u001b[49m\u001b[38;5;241;43m=\u001b[39;49m\u001b[43mdata\u001b[49m\u001b[43m \u001b[49m\u001b[38;5;129;43;01mor\u001b[39;49;00m\u001b[43m \u001b[49m\u001b[38;5;28;43;01mNone\u001b[39;49;00m\u001b[43m,\u001b[49m\u001b[43m \u001b[49m\u001b[43mreturn_json\u001b[49m\u001b[38;5;241;43m=\u001b[39;49m\u001b[43mreturn_json\u001b[49m\u001b[43m,\u001b[49m\u001b[43m \u001b[49m\u001b[43mtimeout\u001b[49m\u001b[38;5;241;43m=\u001b[39;49m\u001b[43mtimeout\u001b[49m\u001b[43m)\u001b[49m\n\u001b[1;32m    135\u001b[0m \u001b[38;5;28;01mif\u001b[39;00m \u001b[38;5;124m'\u001b[39m\u001b[38;5;124mX-RateLimit-Remaining\u001b[39m\u001b[38;5;124m'\u001b[39m \u001b[38;5;129;01min\u001b[39;00m \u001b[38;5;28mself\u001b[39m\u001b[38;5;241m.\u001b[39mrecv_hdrs:\n\u001b[1;32m    136\u001b[0m     newlim \u001b[38;5;241m=\u001b[39m \u001b[38;5;28mself\u001b[39m\u001b[38;5;241m.\u001b[39mrecv_hdrs[\u001b[38;5;124m'\u001b[39m\u001b[38;5;124mX-RateLimit-Remaining\u001b[39m\u001b[38;5;124m'\u001b[39m]\n",
      "File \u001b[0;32m~/python/venv/lib/python3.12/site-packages/fastcore/net.py:221\u001b[0m, in \u001b[0;36murlsend\u001b[0;34m(url, verb, headers, decode, route, query, data, json_data, return_json, return_headers, debug, timeout)\u001b[0m\n\u001b[1;32m    218\u001b[0m \u001b[38;5;28;01mif\u001b[39;00m route \u001b[38;5;129;01mand\u001b[39;00m route\u001b[38;5;241m.\u001b[39mget(\u001b[38;5;124m'\u001b[39m\u001b[38;5;124marchive_format\u001b[39m\u001b[38;5;124m'\u001b[39m, \u001b[38;5;28;01mNone\u001b[39;00m):\n\u001b[1;32m    219\u001b[0m     \u001b[38;5;28;01mreturn\u001b[39;00m urlread(req, decode\u001b[38;5;241m=\u001b[39m\u001b[38;5;28;01mFalse\u001b[39;00m, return_json\u001b[38;5;241m=\u001b[39m\u001b[38;5;28;01mFalse\u001b[39;00m, return_headers\u001b[38;5;241m=\u001b[39mreturn_headers, timeout\u001b[38;5;241m=\u001b[39mtimeout)\n\u001b[0;32m--> 221\u001b[0m \u001b[38;5;28;01mreturn\u001b[39;00m \u001b[43murlread\u001b[49m\u001b[43m(\u001b[49m\u001b[43mreq\u001b[49m\u001b[43m,\u001b[49m\u001b[43m \u001b[49m\u001b[43mdecode\u001b[49m\u001b[38;5;241;43m=\u001b[39;49m\u001b[43mdecode\u001b[49m\u001b[43m,\u001b[49m\u001b[43m \u001b[49m\u001b[43mreturn_json\u001b[49m\u001b[38;5;241;43m=\u001b[39;49m\u001b[43mreturn_json\u001b[49m\u001b[43m,\u001b[49m\u001b[43m \u001b[49m\u001b[43mreturn_headers\u001b[49m\u001b[38;5;241;43m=\u001b[39;49m\u001b[43mreturn_headers\u001b[49m\u001b[43m,\u001b[49m\u001b[43m \u001b[49m\u001b[43mtimeout\u001b[49m\u001b[38;5;241;43m=\u001b[39;49m\u001b[43mtimeout\u001b[49m\u001b[43m)\u001b[49m\n",
      "File \u001b[0;32m~/python/venv/lib/python3.12/site-packages/fastcore/net.py:122\u001b[0m, in \u001b[0;36murlread\u001b[0;34m(url, data, headers, decode, return_json, return_headers, timeout, **kwargs)\u001b[0m\n\u001b[1;32m    120\u001b[0m     \u001b[38;5;28;01mwith\u001b[39;00m urlopen(url, data\u001b[38;5;241m=\u001b[39mdata, headers\u001b[38;5;241m=\u001b[39mheaders, timeout\u001b[38;5;241m=\u001b[39mtimeout, \u001b[38;5;241m*\u001b[39m\u001b[38;5;241m*\u001b[39mkwargs) \u001b[38;5;28;01mas\u001b[39;00m u: res,hdrs \u001b[38;5;241m=\u001b[39m u\u001b[38;5;241m.\u001b[39mread(),u\u001b[38;5;241m.\u001b[39mheaders\n\u001b[1;32m    121\u001b[0m \u001b[38;5;28;01mexcept\u001b[39;00m HTTPError \u001b[38;5;28;01mas\u001b[39;00m e:\n\u001b[0;32m--> 122\u001b[0m     \u001b[38;5;28;01mif\u001b[39;00m \u001b[38;5;241m400\u001b[39m \u001b[38;5;241m<\u001b[39m\u001b[38;5;241m=\u001b[39m e\u001b[38;5;241m.\u001b[39mcode \u001b[38;5;241m<\u001b[39m \u001b[38;5;241m500\u001b[39m: \u001b[38;5;28;01mraise\u001b[39;00m ExceptionsHTTP[e\u001b[38;5;241m.\u001b[39mcode](e\u001b[38;5;241m.\u001b[39murl, e\u001b[38;5;241m.\u001b[39mhdrs, e\u001b[38;5;241m.\u001b[39mfp, msg\u001b[38;5;241m=\u001b[39me\u001b[38;5;241m.\u001b[39mmsg) \u001b[38;5;28;01mfrom\u001b[39;00m \u001b[38;5;28;01mNone\u001b[39;00m\n\u001b[1;32m    123\u001b[0m     \u001b[38;5;28;01melse\u001b[39;00m: \u001b[38;5;28;01mraise\u001b[39;00m\n\u001b[1;32m    125\u001b[0m \u001b[38;5;28;01mif\u001b[39;00m decode: res \u001b[38;5;241m=\u001b[39m res\u001b[38;5;241m.\u001b[39mdecode()\n",
      "\u001b[0;31mHTTP404NotFoundError\u001b[0m: HTTP Error 404: Not Found\n====Error Body====\n{\n  \"message\": \"Not Found\",\n  \"documentation_url\": \"https://docs.github.com/rest/pages/pages#get-latest-pages-build\",\n  \"status\": \"404\"\n}\n"
     ]
    }
   ],
   "source": [
    "api.repos.get_latest_pages_build('make_llm')"
   ]
  },
  {
   "cell_type": "code",
   "execution_count": null,
   "id": "1d4beff6-52de-4967-8b45-f456e8471ab8",
   "metadata": {},
   "outputs": [
    {
     "data": {
      "text/plain": [
       "'https://api.github.com/repos/ozpau/make_llm/branches{/branch}'"
      ]
     },
     "execution_count": null,
     "metadata": {},
     "output_type": "execute_result"
    }
   ],
   "source": [
    "repo.branches_url"
   ]
  },
  {
   "cell_type": "code",
   "execution_count": null,
   "id": "3b663bf9-d3da-4c0f-98e9-b9e4f3262903",
   "metadata": {},
   "outputs": [],
   "source": [
    "#| export\n",
    "@call_parse\n",
    "def gh_licenses():\n",
    "    \"List GitHub license templates\"\n",
    "    l = api.licenses.get_all_commonly_used(per_page=100)\n",
    "    #return l.attrgot(\"spdx_id\")\n",
    "    return \"\\n\".join(l.map(lambda x: f\"{pad(x['spdx_id'],16)}{pad(x['name'],42)}\"))"
   ]
  },
  {
   "cell_type": "markdown",
   "id": "c2f97278-e406-4bfd-b809-38613b004dd1",
   "metadata": {},
   "source": [
    "TODO: It would be nice if `@call_parse` created not just a cli wrapper, but also a raw function"
   ]
  },
  {
   "cell_type": "code",
   "execution_count": null,
   "id": "42afdf2e-2435-46f4-beb3-ca75bc3a30b7",
   "metadata": {},
   "outputs": [],
   "source": [
    "#| export\n",
    "def gh_new_repo_fn(name, description, license, private):\n",
    "    gh_repo = api.repos.create_for_authenticated_user(name, description, private=private, license_template=license)\n",
    "    local_repo = Repo.clone_from(gh_repo.ssh_url, gh_repo.name)\n",
    "    return gh_repo, local_repo"
   ]
  },
  {
   "cell_type": "code",
   "execution_count": null,
   "id": "c2912473-f4bf-4224-a34f-1ad04732df7a",
   "metadata": {},
   "outputs": [],
   "source": [
    "#| export\n",
    "@call_parse\n",
    "def gh_new_repo(name:str, description:str, license:str=\"Apache-2.0\", private:bool=False):\n",
    "    \"Create a new github repo and clone it\"\n",
    "    gh_new_repo_fn(name, description, license, private)"
   ]
  },
  {
   "cell_type": "code",
   "execution_count": null,
   "id": "f0144671-3235-4b47-97b7-0a0b885a7ad5",
   "metadata": {},
   "outputs": [],
   "source": [
    "#| export\n",
    "def commit_and_push(repo: Repo, # Repo to commit and push\n",
    "                    msg: str # Commit message\n",
    "                   ):\n",
    "    repo.git.add('.')\n",
    "    repo.index.commit(msg)\n",
    "    origin = repo.remote(name='origin')\n",
    "    origin.push()"
   ]
  },
  {
   "cell_type": "code",
   "execution_count": null,
   "id": "2b356399-a2e2-436c-a088-501b722cf6a3",
   "metadata": {},
   "outputs": [],
   "source": [
    "#gh_new_repo(\"cadlab\", \"CAD tools for Jupyter notebooks\")"
   ]
  },
  {
   "cell_type": "code",
   "execution_count": null,
   "id": "b61d5b2f-c2cc-4124-9d75-dde600ec53fa",
   "metadata": {},
   "outputs": [
    {
     "data": {
      "text/plain": [
       "Path('/home/mu/nbdev/oztools/nbs/api')"
      ]
     },
     "execution_count": null,
     "metadata": {},
     "output_type": "execute_result"
    }
   ],
   "source": [
    "Path().cwd()"
   ]
  },
  {
   "cell_type": "code",
   "execution_count": null,
   "id": "31abe9ac-283b-42bb-8b53-c2a31102cf01",
   "metadata": {},
   "outputs": [],
   "source": [
    "#from nbdev.cli import *"
   ]
  },
  {
   "cell_type": "code",
   "execution_count": null,
   "id": "967e6402-2c33-4cbb-b1da-8fc8e3955701",
   "metadata": {},
   "outputs": [],
   "source": [
    "#nbdev_new()"
   ]
  },
  {
   "cell_type": "code",
   "execution_count": null,
   "id": "b6fca912-ff9d-4dcf-a11c-4e1e7c21d5a6",
   "metadata": {},
   "outputs": [],
   "source": [
    "#api.repos.list_for_org(\"\")"
   ]
  },
  {
   "cell_type": "code",
   "execution_count": null,
   "id": "357edf5a-7997-4834-8c16-00037cbcbe04",
   "metadata": {},
   "outputs": [],
   "source": [
    "gh_repo = api.repos.get(\"ozpau.github.io\")"
   ]
  },
  {
   "cell_type": "code",
   "execution_count": null,
   "id": "da90c4b0-2b7d-483a-b317-db2277c49615",
   "metadata": {},
   "outputs": [],
   "source": [
    "local_repo = Repo('../..')"
   ]
  },
  {
   "cell_type": "code",
   "execution_count": null,
   "id": "a3addf0b-c125-42b6-a25a-546d10530af9",
   "metadata": {},
   "outputs": [],
   "source": [
    "#head = local_repo.create_head('gh-pages')\n",
    "#local_repo.git.push('--set-upstream', 'origin', head)"
   ]
  },
  {
   "cell_type": "code",
   "execution_count": null,
   "id": "6414e945-0c9f-4eda-8b28-b3ebf5dd0a2f",
   "metadata": {},
   "outputs": [],
   "source": [
    "#| export\n",
    "def add_new_branch(repo: Repo, branch_name: str):\n",
    "    \"Create new branch and push it to upstream\"\n",
    "    head = repo.create_head(branch_name)\n",
    "    repo.git.push('--set-upstream', 'origin', head)"
   ]
  },
  {
   "cell_type": "markdown",
   "id": "da929b26-1a3c-49c2-b292-ebae7f58ef69",
   "metadata": {},
   "source": [
    "Note that we need to split setting up branch in two parts\n",
    "so that if we decide to commit something after setting up gh-pages\n",
    "branch, it won't interrupt page deployment."
   ]
  },
  {
   "cell_type": "code",
   "execution_count": null,
   "id": "c104361a-5e39-4a35-9ad1-287cb8ee6f32",
   "metadata": {},
   "outputs": [],
   "source": [
    "#| export\n",
    "def setup_pages_branch(local_repo: Repo, repo_name: str):\n",
    "    add_new_branch(local_repo, 'gh-pages')\n",
    "\n",
    "def setup_pages_branch_location(local_repo: Repo, repo_name: str):\n",
    "    new_source = {\"branch\":\"gh-pages\"}\n",
    "    try:\n",
    "        api.repos.create_pages_site(repo_name, source={\"branch\":\"gh-pages\"})\n",
    "    except HTTP409ConflictError:\n",
    "        api.repos.update_information_about_pages_site(repo_name,\n",
    "                                                      source={\"branch\":\"gh-pages\", \"path\": \"/\"})\n",
    "    api.repos.request_pages_build(repo_name)"
   ]
  },
  {
   "cell_type": "code",
   "execution_count": null,
   "id": "c8f0df35-7697-44ae-b9d5-248dd05815c3",
   "metadata": {},
   "outputs": [],
   "source": [
    "#| hide\n",
    "import nbdev; nbdev.nbdev_export()"
   ]
  },
  {
   "cell_type": "code",
   "execution_count": null,
   "id": "5689e33c-43d8-43dd-b845-66fa1825192d",
   "metadata": {},
   "outputs": [],
   "source": []
  }
 ],
 "metadata": {
  "kernelspec": {
   "display_name": "python3",
   "language": "python",
   "name": "python3"
  }
 },
 "nbformat": 4,
 "nbformat_minor": 5
}
